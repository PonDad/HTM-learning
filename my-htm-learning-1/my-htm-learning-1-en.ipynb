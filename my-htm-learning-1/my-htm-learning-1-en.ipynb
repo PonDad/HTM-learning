{
 "cells": [
  {
   "cell_type": "markdown",
   "metadata": {},
   "source": [
    "# HTM learns the music."
   ]
  },
  {
   "cell_type": "markdown",
   "metadata": {},
   "source": [
    "## Create a sound file\n",
    "\n",
    "![1-1](images/1-1.png)\n",
    "\n",
    "\n",
    "- Playing music in Scratch - The \"music\" block in the visual programming editor [Scratch](https://scratch.mit.edu/) allows you to select 21 different \"instruments\" for the \"music\" block. You can use this function to change the frequency of the music to play it. The sample program is available from [link](https://scratch.mit.edu/projects/390512046).\n",
    "\n",
    "- This time, we played \"Twinkle Twinkle Little Star\" 10 times with different instruments and \"Mary Had A Little Lamb\" once for verification purposes.\n",
    "\n",
    "- Record music with the Chrome extension - Record your music using the Chrome extension [AudioRecorder](https://chrome.google.com/webstore/detail/audiorecorder/enhfkjkjfhhdibpgjmiamdcdgmcjpplk?hl=ja)."
   ]
  },
  {
   "cell_type": "markdown",
   "metadata": {},
   "source": [
    "## Using HTM Applications\n",
    "\n",
    "You will need the following software, so please install the Python2 version beforehand.\n",
    "\n",
    "- [NuPIC](https://github.com/numenta/nupic)\n",
    "- [matplotlib](https://matplotlib.org/)\n",
    "- [numpy](https://numpy.org/)\n",
    "\n",
    "### 1. clone the application\n",
    "\n",
    "Clone the HTM sample app `nupic.critic` from the repository [htm-community/nupic.critic](https://github.com/htm-community/nupic.critic)."
   ]
  },
  {
   "cell_type": "code",
   "execution_count": 1,
   "metadata": {},
   "outputs": [
    {
     "output_type": "stream",
     "name": "stdout",
     "text": "Cloning into 'nupic.critic'...\nremote: Enumerating objects: 285, done.\u001b[K\nremote: Total 285 (delta 0), reused 0 (delta 0), pack-reused 285\u001b[K\nReceiving objects: 100% (285/285), 84.15 KiB | 509.00 KiB/s, done.\nResolving deltas: 100% (176/176), done.\n"
    }
   ],
   "source": [
    "!git clone https://github.com/htm-community/nupic.critic.git"
   ]
  },
  {
   "cell_type": "markdown",
   "metadata": {},
   "source": [
    "### 2. convert sound source to CSV\n",
    "\n",
    "Please move the wav file that you downloaded earlier to the current directory. The `convert_wav.py` function converts a WAV file to a CSV file."
   ]
  },
  {
   "cell_type": "code",
   "execution_count": 2,
   "metadata": {},
   "outputs": [
    {
     "output_type": "stream",
     "name": "stdout",
     "text": "Opening myRecording00.wav\nWrote data to data/myRecording00_5hz_10b/input\n"
    }
   ],
   "source": [
    "!python nupic.critic/convert_wav.py myRecording00.wav"
   ]
  },
  {
   "cell_type": "markdown",
   "metadata": {},
   "source": [
    "### Convert to SDR for learning and prediction.\n",
    "\n",
    "A folder `data/myRecording00_5hz_10b/input` has been created in the directory. In this file, the WAV file is saved as a CSV file for each scale. After converting the saved file to SDR, it learns and predicts at the same time."
   ]
  },
  {
   "cell_type": "code",
   "execution_count": 3,
   "metadata": {},
   "outputs": [
    {
     "output_type": "stream",
     "name": "stdout",
     "text": "Creating models from data/myRecording00_5hz_10b/input using grok_anomaly_model_params...\nImporting model params from model_params.grok_anomaly_model_params for bin b2\nPreparing to output b2 data to data/myRecording00_5hz_10b/input/../output/b2.csv\nRead 100 lines...\nRead 200 lines...\nRead 300 lines...\nRead 400 lines...\nRead 500 lines...\nRead 600 lines...\nRead 700 lines...\nRead 800 lines...\nRead 900 lines...\nRead 1000 lines...\nRead 1100 lines...\nRead 1200 lines...\nRead 1300 lines...\nRead 1400 lines...\nWrote 1408 data lines to /home/pondad/GitHub/HTM-learning/htm-learning-1/data/myRecording00_5hz_10b/output/b2.csv.\nCreating models from data/myRecording00_5hz_10b/input using grok_anomaly_model_params...\nImporting model params from model_params.grok_anomaly_model_params for bin b6\nPreparing to output b6 data to data/myRecording00_5hz_10b/input/../output/b6.csv\nRead 100 lines...\nRead 200 lines...\nRead 300 lines...\nRead 400 lines...\nRead 500 lines...\nRead 600 lines...\nRead 700 lines...\nRead 800 lines...\nRead 900 lines...\nRead 1000 lines...\nRead 1100 lines...\nRead 1200 lines...\nRead 1300 lines...\nRead 1400 lines...\nWrote 1408 data lines to /home/pondad/GitHub/HTM-learning/htm-learning-1/data/myRecording00_5hz_10b/output/b6.csv.\nCreating models from data/myRecording00_5hz_10b/input using grok_anomaly_model_params...\nImporting model params from model_params.grok_anomaly_model_params for bin b9\nPreparing to output b9 data to data/myRecording00_5hz_10b/input/../output/b9.csv\nRead 100 lines...\nRead 200 lines...\nRead 300 lines...\nRead 400 lines...\nRead 500 lines...\nRead 600 lines...\nRead 700 lines...\nRead 800 lines...\nRead 900 lines...\nRead 1000 lines...\nRead 1100 lines...\nRead 1200 lines...\nRead 1300 lines...\nRead 1400 lines...\nWrote 1408 data lines to /home/pondad/GitHub/HTM-learning/htm-learning-1/data/myRecording00_5hz_10b/output/b9.csv.\nCreating models from data/myRecording00_5hz_10b/input using grok_anomaly_model_params...\nImporting model params from model_params.grok_anomaly_model_params for bin b0\nPreparing to output b0 data to data/myRecording00_5hz_10b/input/../output/b0.csv\nRead 100 lines...\nRead 200 lines...\nRead 300 lines...\nRead 400 lines...\nRead 500 lines...\nRead 600 lines...\nRead 700 lines...\nRead 800 lines...\nRead 900 lines...\nRead 1000 lines...\nRead 1100 lines...\nRead 1200 lines...\nRead 1300 lines...\nRead 1400 lines...\nWrote 1408 data lines to /home/pondad/GitHub/HTM-learning/htm-learning-1/data/myRecording00_5hz_10b/output/b0.csv.\nCreating models from data/myRecording00_5hz_10b/input using grok_anomaly_model_params...\nImporting model params from model_params.grok_anomaly_model_params for bin b4\nPreparing to output b4 data to data/myRecording00_5hz_10b/input/../output/b4.csv\nRead 100 lines...\nRead 200 lines...\nRead 300 lines...\nRead 400 lines...\nRead 500 lines...\nRead 600 lines...\nRead 700 lines...\nRead 800 lines...\nRead 900 lines...\nRead 1000 lines...\nRead 1100 lines...\nRead 1200 lines...\nRead 1300 lines...\nRead 1400 lines...\nWrote 1408 data lines to /home/pondad/GitHub/HTM-learning/htm-learning-1/data/myRecording00_5hz_10b/output/b4.csv.\nCreating models from data/myRecording00_5hz_10b/input using grok_anomaly_model_params...\nImporting model params from model_params.grok_anomaly_model_params for bin b5\nPreparing to output b5 data to data/myRecording00_5hz_10b/input/../output/b5.csv\nRead 100 lines...\nRead 200 lines...\nRead 300 lines...\nRead 400 lines...\nRead 500 lines...\nRead 600 lines...\nRead 700 lines...\nRead 800 lines...\nRead 900 lines...\nRead 1000 lines...\nRead 1100 lines...\nRead 1200 lines...\nRead 1300 lines...\nRead 1400 lines...\nWrote 1408 data lines to /home/pondad/GitHub/HTM-learning/htm-learning-1/data/myRecording00_5hz_10b/output/b5.csv.\nCreating models from data/myRecording00_5hz_10b/input using grok_anomaly_model_params...\nImporting model params from model_params.grok_anomaly_model_params for bin b8\nPreparing to output b8 data to data/myRecording00_5hz_10b/input/../output/b8.csv\nRead 100 lines...\nRead 200 lines...\nRead 300 lines...\nRead 400 lines...\nRead 500 lines...\nRead 600 lines...\nRead 700 lines...\nRead 800 lines...\nRead 900 lines...\nRead 1000 lines...\nRead 1100 lines...\nRead 1200 lines...\nRead 1300 lines...\nRead 1400 lines...\nWrote 1408 data lines to /home/pondad/GitHub/HTM-learning/htm-learning-1/data/myRecording00_5hz_10b/output/b8.csv.\nCreating models from data/myRecording00_5hz_10b/input using grok_anomaly_model_params...\nImporting model params from model_params.grok_anomaly_model_params for bin b1\nPreparing to output b1 data to data/myRecording00_5hz_10b/input/../output/b1.csv\nRead 100 lines...\nRead 200 lines...\nRead 300 lines...\nRead 400 lines...\nRead 500 lines...\nRead 600 lines...\nRead 700 lines...\nRead 800 lines...\nRead 900 lines...\nRead 1000 lines...\nRead 1100 lines...\nRead 1200 lines...\nRead 1300 lines...\nRead 1400 lines...\nWrote 1408 data lines to /home/pondad/GitHub/HTM-learning/htm-learning-1/data/myRecording00_5hz_10b/output/b1.csv.\nCreating models from data/myRecording00_5hz_10b/input using grok_anomaly_model_params...\nImporting model params from model_params.grok_anomaly_model_params for bin b7\nPreparing to output b7 data to data/myRecording00_5hz_10b/input/../output/b7.csv\nRead 100 lines...\nRead 200 lines...\nRead 300 lines...\nRead 400 lines...\nRead 500 lines...\nRead 600 lines...\nRead 700 lines...\nRead 800 lines...\nRead 900 lines...\nRead 1000 lines...\nRead 1100 lines...\nRead 1200 lines...\nRead 1300 lines...\nRead 1400 lines...\nWrote 1408 data lines to /home/pondad/GitHub/HTM-learning/htm-learning-1/data/myRecording00_5hz_10b/output/b7.csv.\nCreating models from data/myRecording00_5hz_10b/input using grok_anomaly_model_params...\nImporting model params from model_params.grok_anomaly_model_params for bin b3\nPreparing to output b3 data to data/myRecording00_5hz_10b/input/../output/b3.csv\nRead 100 lines...\nRead 200 lines...\nRead 300 lines...\nRead 400 lines...\nRead 500 lines...\nRead 600 lines...\nRead 700 lines...\nRead 800 lines...\nRead 900 lines...\nRead 1000 lines...\nRead 1100 lines...\nRead 1200 lines...\nRead 1300 lines...\nRead 1400 lines...\nWrote 1408 data lines to /home/pondad/GitHub/HTM-learning/htm-learning-1/data/myRecording00_5hz_10b/output/b3.csv.\n"
    }
   ],
   "source": [
    "!python nupic.critic/run.py data/myRecording00_5hz_10b/input"
   ]
  },
  {
   "cell_type": "markdown",
   "metadata": {},
   "source": [
    "### 4. visualization of the forecast\n",
    "\n",
    "![1-6](images/1-6.png)\n",
    "\n",
    "Now a folder `data/myRecording00_5hz_10b/input` has been created in the directory. The hourly forecasts and errors are stored in this. The saved data can be plotted and visualized. Let's see which parts you can remember as the music plays.\n",
    "\n",
    "When you run it on Ubuntu, change `subprocess.call(\"open %s\" % audio_file, shell=True)` to `subprocess.call(\"xdg-open %s\" % audio_file, shell=True)` in line 98 `nupic.critic/plotter.py`.\n",
    "\n",
    "The blue arrows are \"Twinkle Twinkle Little Star\" played by the clarinet, and the red arrows are \"Mary Had A Little Lamb\" also played by the clarinet. "
   ]
  },
  {
   "cell_type": "code",
   "execution_count": 5,
   "metadata": {},
   "outputs": [
    {
     "output_type": "stream",
     "name": "stdout",
     "text": "initializing data/myRecording00_5hz_10b/output\n"
    }
   ],
   "source": [
    "!python nupic.critic/plotter.py data/myRecording00_5hz_10b/output -w 'myRecording00.wav'"
   ]
  },
  {
   "cell_type": "markdown",
   "metadata": {},
   "source": [
    "Translated with www.DeepL.com/Translator (free version)"
   ]
  },
  {
   "cell_type": "code",
   "execution_count": null,
   "metadata": {},
   "outputs": [],
   "source": []
  }
 ],
 "metadata": {
  "kernelspec": {
   "display_name": "Python 2.7.17 64-bit",
   "language": "python",
   "name": "python271764bite5eafe4ba38e428c91c0c5904d77bcb3"
  },
  "language_info": {
   "codemirror_mode": {
    "name": "ipython",
    "version": 2
   },
   "file_extension": ".py",
   "mimetype": "text/x-python",
   "name": "python",
   "nbconvert_exporter": "python",
   "pygments_lexer": "ipython2",
   "version": "2.7.17-final"
  }
 },
 "nbformat": 4,
 "nbformat_minor": 2
}