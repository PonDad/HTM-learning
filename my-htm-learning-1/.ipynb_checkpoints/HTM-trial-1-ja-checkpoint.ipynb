{
 "cells": [
  {
   "cell_type": "markdown",
   "metadata": {},
   "source": [
    "# HTMに音楽をおぼえさせる"
   ]
  },
  {
   "cell_type": "markdown",
   "metadata": {},
   "source": [
    "## 音源ファイルの作成\n",
    "\n",
    "![1-1](images/1-1.png)\n",
    "\n",
    "\n",
    "- Scratchで音楽の再生 - ビジュアルプログラミングエディター[Scratch](https://scratch.mit.edu/)の「音楽」ブロックは「楽器」を21種類選択できます。この機能を使い、音楽の周波数を変えて再生します。サンプルプログラムは[リンク](https://scratch.mit.edu/projects/390512046)より利用して下さい。\n",
    "\n",
    "- Chrome拡張機能で音楽の録音 - Chrome拡張機能[AudioRecorder](https://chrome.google.com/webstore/detail/audiorecorder/enhfkjkjfhhdibpgjmiamdcdgmcjpplk?hl=ja)を使って音源を録音します。"
   ]
  },
  {
   "cell_type": "markdown",
   "metadata": {},
   "source": [
    "## HTMアプリケーションをつかう\n",
    "\n",
    "以下のソフトが必要になりますので、Python2系のものを事前にインストールして下さい。\n",
    "\n",
    "- [NuPIC](https://github.com/numenta/nupic)\n",
    "- [matplotlib](https://matplotlib.org/)\n",
    "- [numpy](https://numpy.org/)\n",
    "\n",
    "### 1. アプリケーションのクローン\n",
    "\n",
    "HTMのサンプルアプリ`nupic.critic`をレポジトリ[htm-community/nupic.critic](https://github.com/htm-community/nupic.critic)からクローンして下さい。"
   ]
  },
  {
   "cell_type": "code",
   "execution_count": 12,
   "metadata": {},
   "outputs": [
    {
     "name": "stdout",
     "output_type": "stream",
     "text": [
      "Cloning into 'nupic.critic'...\n",
      "remote: Enumerating objects: 285, done.\u001b[K\n",
      "remote: Total 285 (delta 0), reused 0 (delta 0), pack-reused 285\u001b[K\n",
      "Receiving objects: 100% (285/285), 84.15 KiB | 327.00 KiB/s, done.\n",
      "Resolving deltas: 100% (176/176), done.\n"
     ]
    }
   ],
   "source": [
    "!git clone https://github.com/htm-community/nupic.critic.git"
   ]
  },
  {
   "cell_type": "markdown",
   "metadata": {},
   "source": [
    "### 2. 音源をCSVに変換する\n",
    "\n",
    "先程ダウンロードしたwavファイルをカレントディレクトリに移動して下さい。`convert_wav.py`でWAVファイルをCSVファイルに変換します。"
   ]
  },
  {
   "cell_type": "code",
   "execution_count": 10,
   "metadata": {},
   "outputs": [
    {
     "name": "stdout",
     "output_type": "stream",
     "text": [
      "Opening myRecording00.wav\n",
      "Wrote data to data/myRecording00_5hz_10b/input\n"
     ]
    }
   ],
   "source": [
    "!python nupic.critic/convert_wav.py myRecording00.wav"
   ]
  },
  {
   "cell_type": "markdown",
   "metadata": {},
   "source": [
    "### 3. SDRへ変換し学習・予測をおこなう\n",
    "\n",
    "ディレクトリ内に`data/myRecording00_5hz_10b/input`フォルダが生成されました。この中にWAVファイルを音階ごとにCSV化したファイルが保存されています。保存されたファイルをSDRに変換後、学習と予測を同時におこないます。"
   ]
  },
  {
   "cell_type": "code",
   "execution_count": 7,
   "metadata": {},
   "outputs": [
    {
     "name": "stdout",
     "output_type": "stream",
     "text": [
      "Creating models from data/myRecording00_5hz_10b/input using grok_anomaly_model_params...\n",
      "Importing model params from model_params.grok_anomaly_model_params for bin b2\n",
      "Preparing to output b2 data to data/myRecording00_5hz_10b/input/../output/b2.csv\n",
      "Read 100 lines...\n",
      "Read 200 lines...\n",
      "Read 300 lines...\n",
      "Read 400 lines...\n",
      "Read 500 lines...\n",
      "Read 600 lines...\n",
      "Read 700 lines...\n",
      "Read 800 lines...\n",
      "Read 900 lines...\n",
      "Read 1000 lines...\n",
      "Read 1100 lines...\n",
      "Read 1200 lines...\n",
      "Read 1300 lines...\n",
      "Read 1400 lines...\n",
      "Wrote 1408 data lines to /home/pondad/Desktop/work/htm-application-trials/data/myRecording00_5hz_10b/output/b2.csv.\n",
      "Creating models from data/myRecording00_5hz_10b/input using grok_anomaly_model_params...\n",
      "Importing model params from model_params.grok_anomaly_model_params for bin b6\n",
      "Preparing to output b6 data to data/myRecording00_5hz_10b/input/../output/b6.csv\n",
      "Read 100 lines...\n",
      "Read 200 lines...\n",
      "Read 300 lines...\n",
      "Read 400 lines...\n",
      "Read 500 lines...\n",
      "Read 600 lines...\n",
      "Read 700 lines...\n",
      "Read 800 lines...\n",
      "Read 900 lines...\n",
      "Read 1000 lines...\n",
      "Read 1100 lines...\n",
      "Read 1200 lines...\n",
      "Read 1300 lines...\n",
      "Read 1400 lines...\n",
      "Wrote 1408 data lines to /home/pondad/Desktop/work/htm-application-trials/data/myRecording00_5hz_10b/output/b6.csv.\n",
      "Creating models from data/myRecording00_5hz_10b/input using grok_anomaly_model_params...\n",
      "Importing model params from model_params.grok_anomaly_model_params for bin b9\n",
      "Preparing to output b9 data to data/myRecording00_5hz_10b/input/../output/b9.csv\n",
      "Read 100 lines...\n",
      "Read 200 lines...\n",
      "Read 300 lines...\n",
      "Read 400 lines...\n",
      "Read 500 lines...\n",
      "Read 600 lines...\n",
      "Read 700 lines...\n",
      "Read 800 lines...\n",
      "Read 900 lines...\n",
      "Read 1000 lines...\n",
      "Read 1100 lines...\n",
      "Read 1200 lines...\n",
      "Read 1300 lines...\n",
      "Read 1400 lines...\n",
      "Wrote 1408 data lines to /home/pondad/Desktop/work/htm-application-trials/data/myRecording00_5hz_10b/output/b9.csv.\n",
      "Creating models from data/myRecording00_5hz_10b/input using grok_anomaly_model_params...\n",
      "Importing model params from model_params.grok_anomaly_model_params for bin b0\n",
      "Preparing to output b0 data to data/myRecording00_5hz_10b/input/../output/b0.csv\n",
      "Read 100 lines...\n",
      "Read 200 lines...\n",
      "Read 300 lines...\n",
      "Read 400 lines...\n",
      "Read 500 lines...\n",
      "Read 600 lines...\n",
      "Read 700 lines...\n",
      "Read 800 lines...\n",
      "Read 900 lines...\n",
      "Read 1000 lines...\n",
      "Read 1100 lines...\n",
      "Read 1200 lines...\n",
      "Read 1300 lines...\n",
      "Read 1400 lines...\n",
      "Wrote 1408 data lines to /home/pondad/Desktop/work/htm-application-trials/data/myRecording00_5hz_10b/output/b0.csv.\n",
      "Creating models from data/myRecording00_5hz_10b/input using grok_anomaly_model_params...\n",
      "Importing model params from model_params.grok_anomaly_model_params for bin b4\n",
      "Preparing to output b4 data to data/myRecording00_5hz_10b/input/../output/b4.csv\n",
      "Read 100 lines...\n",
      "Read 200 lines...\n",
      "Read 300 lines...\n",
      "Read 400 lines...\n",
      "Read 500 lines...\n",
      "Read 600 lines...\n",
      "Read 700 lines...\n",
      "Read 800 lines...\n",
      "Read 900 lines...\n",
      "Read 1000 lines...\n",
      "Read 1100 lines...\n",
      "Read 1200 lines...\n",
      "Read 1300 lines...\n",
      "Read 1400 lines...\n",
      "Wrote 1408 data lines to /home/pondad/Desktop/work/htm-application-trials/data/myRecording00_5hz_10b/output/b4.csv.\n",
      "Creating models from data/myRecording00_5hz_10b/input using grok_anomaly_model_params...\n",
      "Importing model params from model_params.grok_anomaly_model_params for bin b5\n",
      "Preparing to output b5 data to data/myRecording00_5hz_10b/input/../output/b5.csv\n",
      "Read 100 lines...\n",
      "Read 200 lines...\n",
      "Read 300 lines...\n",
      "Read 400 lines...\n",
      "Read 500 lines...\n",
      "Read 600 lines...\n",
      "Read 700 lines...\n",
      "Read 800 lines...\n",
      "Read 900 lines...\n",
      "Read 1000 lines...\n",
      "Read 1100 lines...\n",
      "Read 1200 lines...\n",
      "Read 1300 lines...\n",
      "Read 1400 lines...\n",
      "Wrote 1408 data lines to /home/pondad/Desktop/work/htm-application-trials/data/myRecording00_5hz_10b/output/b5.csv.\n",
      "Creating models from data/myRecording00_5hz_10b/input using grok_anomaly_model_params...\n",
      "Importing model params from model_params.grok_anomaly_model_params for bin b8\n",
      "Preparing to output b8 data to data/myRecording00_5hz_10b/input/../output/b8.csv\n",
      "Read 100 lines...\n",
      "Read 200 lines...\n",
      "Read 300 lines...\n",
      "Read 400 lines...\n",
      "Read 500 lines...\n",
      "Read 600 lines...\n",
      "Read 700 lines...\n",
      "Read 800 lines...\n",
      "Read 900 lines...\n",
      "Read 1000 lines...\n",
      "Read 1100 lines...\n",
      "Read 1200 lines...\n",
      "Read 1300 lines...\n",
      "Read 1400 lines...\n",
      "Wrote 1408 data lines to /home/pondad/Desktop/work/htm-application-trials/data/myRecording00_5hz_10b/output/b8.csv.\n",
      "Creating models from data/myRecording00_5hz_10b/input using grok_anomaly_model_params...\n",
      "Importing model params from model_params.grok_anomaly_model_params for bin b1\n",
      "Preparing to output b1 data to data/myRecording00_5hz_10b/input/../output/b1.csv\n",
      "Read 100 lines...\n",
      "Read 200 lines...\n",
      "Read 300 lines...\n",
      "Read 400 lines...\n",
      "Read 500 lines...\n",
      "Read 600 lines...\n",
      "Read 700 lines...\n",
      "Read 800 lines...\n",
      "Read 900 lines...\n",
      "Read 1000 lines...\n",
      "Read 1100 lines...\n",
      "Read 1200 lines...\n",
      "Read 1300 lines...\n",
      "Read 1400 lines...\n",
      "Wrote 1408 data lines to /home/pondad/Desktop/work/htm-application-trials/data/myRecording00_5hz_10b/output/b1.csv.\n",
      "Creating models from data/myRecording00_5hz_10b/input using grok_anomaly_model_params...\n",
      "Importing model params from model_params.grok_anomaly_model_params for bin b7\n",
      "Preparing to output b7 data to data/myRecording00_5hz_10b/input/../output/b7.csv\n",
      "Read 100 lines...\n",
      "Read 200 lines...\n",
      "Read 300 lines...\n",
      "Read 400 lines...\n",
      "Read 500 lines...\n",
      "Read 600 lines...\n",
      "Read 700 lines...\n",
      "Read 800 lines...\n",
      "Read 900 lines...\n",
      "Read 1000 lines...\n",
      "Read 1100 lines...\n",
      "Read 1200 lines...\n",
      "Read 1300 lines...\n",
      "Read 1400 lines...\n",
      "Wrote 1408 data lines to /home/pondad/Desktop/work/htm-application-trials/data/myRecording00_5hz_10b/output/b7.csv.\n",
      "Creating models from data/myRecording00_5hz_10b/input using grok_anomaly_model_params...\n",
      "Importing model params from model_params.grok_anomaly_model_params for bin b3\n",
      "Preparing to output b3 data to data/myRecording00_5hz_10b/input/../output/b3.csv\n",
      "Read 100 lines...\n",
      "Read 200 lines...\n",
      "Read 300 lines...\n",
      "Read 400 lines...\n",
      "Read 500 lines...\n",
      "Read 600 lines...\n",
      "Read 700 lines...\n",
      "Read 800 lines...\n",
      "Read 900 lines...\n",
      "Read 1000 lines...\n",
      "Read 1100 lines...\n",
      "Read 1200 lines...\n",
      "Read 1300 lines...\n",
      "Read 1400 lines...\n",
      "Wrote 1408 data lines to /home/pondad/Desktop/work/htm-application-trials/data/myRecording00_5hz_10b/output/b3.csv.\n"
     ]
    }
   ],
   "source": [
    "!python nupic.critic/run.py data/myRecording00_5hz_10b/input"
   ]
  },
  {
   "cell_type": "markdown",
   "metadata": {},
   "source": [
    "### 4. 予測の可視化\n",
    "\n",
    "![1-6](images/1-6.png)\n",
    "\n",
    "今度はディレクトリ内に`data/myRecording00_5hz_10b/input`フォルダが生成されました。この中に時間ごとの予測と、誤差が保存されています。保存したデータをプロットして可視化出来ます。音楽の再生と合わせてどの部分が記憶できたか確認してみましょう。\n",
    "\n",
    "※ 音楽を同時再生する際、Macの`open`コマンドを使います。Ubuntuで実行する際は`nupic.critic/plotter.py`98行目`subprocess.call(\"open %s\" % audio_file, shell=True)`を`subprocess.call(\"xdg-open %s\" % audio_file, shell=True)`に修正してください。"
   ]
  },
  {
   "cell_type": "code",
   "execution_count": 9,
   "metadata": {},
   "outputs": [
    {
     "name": "stdout",
     "output_type": "stream",
     "text": [
      "initializing data/myRecording00_5hz_10b/output\r\n"
     ]
    }
   ],
   "source": [
    "!python nupic.critic/plotter.py data/myRecording00_5hz_10b/output -w 'myRecording00.wav'"
   ]
  },
  {
   "cell_type": "code",
   "execution_count": null,
   "metadata": {},
   "outputs": [],
   "source": []
  }
 ],
 "metadata": {
  "kernelspec": {
   "display_name": "Python 2",
   "language": "python",
   "name": "python2"
  },
  "language_info": {
   "codemirror_mode": {
    "name": "ipython",
    "version": 2
   },
   "file_extension": ".py",
   "mimetype": "text/x-python",
   "name": "python",
   "nbconvert_exporter": "python",
   "pygments_lexer": "ipython2",
   "version": "2.7.17"
  }
 },
 "nbformat": 4,
 "nbformat_minor": 2
}
