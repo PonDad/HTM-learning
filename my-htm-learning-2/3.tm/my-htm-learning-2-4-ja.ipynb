{
 "cells": [
  {
   "cell_type": "markdown",
   "metadata": {},
   "source": [
    "## hello_tm.py\n",
    "\n",
    "このプログラムでは、以下のようなデモを行い、Temporal Memoryに直接アクセスする方法を示しています。\n",
    "TMインスタンスの作成方法、ベクトルを使った学習方法、予測値の取得方法、そして\n",
    "は状態を検査します。\n",
    "\n",
    "このコードはシーケンス学習の非常にシンプルなバージョンを実行しています。\n",
    "セルをカラムごとに表示します。TM は単純なシーケンス A->B->C->D->E で学習されます。\n",
    "\n",
    "HOMEWORK：ここで何が起こっているのかを正確に理解したら、変更してみてください。\n",
    "cellsPerColumnを4に変更しました。 1列に1セルの場合と4セルの場合の違いは？\n",
    "列あたりのセル数はどうなっていますか？\n",
    "\n",
    "コードのコメントを読んでください - 出力の詳細を説明しています。"
   ]
  },
  {
   "cell_type": "code",
   "execution_count": 1,
   "metadata": {},
   "outputs": [],
   "source": [
    "# Step 1: create Temporal Pooler instance with appropriate parameters\n",
    "\n",
    "tm = TM(columnDimensions = (50,),\n",
    "        cellsPerColumn=2,\n",
    "        initialPermanence=0.5,\n",
    "        connectedPermanence=0.5,\n",
    "        minThreshold=8,\n",
    "        maxNewSynapseCount=20,\n",
    "        permanenceIncrement=0.1,\n",
    "        permanenceDecrement=0.0,\n",
    "        activationThreshold=8,\n",
    "        )"
   ]
  },
  {
   "cell_type": "code",
   "execution_count": 2,
   "metadata": {},
   "outputs": [],
   "source": [
    "# 入力ベクトルをprintするためのユーティリティルーチン\n",
    "def formatRow(x):\n",
    "  s = ''\n",
    "  for c in range(len(x)):\n",
    "    if c > 0 and c % 10 == 0:\n",
    "      s += ' '\n",
    "    s += str(x[c])\n",
    "  s += ' '\n",
    "  return s"
   ]
  },
  {
   "cell_type": "code",
   "execution_count": 3,
   "metadata": {},
   "outputs": [],
   "source": [
    "# Step 1: 適切なパラメータでTemporal Poolerのインスタンスを作成します\n",
    "\n",
    "tm = TM(columnDimensions = (50,),\n",
    "        cellsPerColumn=2,\n",
    "        initialPermanence=0.5,\n",
    "        connectedPermanence=0.5,\n",
    "        minThreshold=8,\n",
    "        maxNewSynapseCount=20,\n",
    "        permanenceIncrement=0.1,\n",
    "        permanenceDecrement=0.0,\n",
    "        activationThreshold=8,\n",
    "        )"
   ]
  },
  {
   "cell_type": "code",
   "execution_count": null,
   "metadata": {},
   "outputs": [],
   "source": []
  }
 ],
 "metadata": {
  "kernelspec": {
   "display_name": "Python 2",
   "language": "python",
   "name": "python2"
  },
  "language_info": {
   "codemirror_mode": {
    "name": "ipython",
    "version": 2
   },
   "file_extension": ".py",
   "mimetype": "text/x-python",
   "name": "python",
   "nbconvert_exporter": "python",
   "pygments_lexer": "ipython2",
   "version": "2.7.17"
  }
 },
 "nbformat": 4,
 "nbformat_minor": 2
}
