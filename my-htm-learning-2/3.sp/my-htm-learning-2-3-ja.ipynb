{
 "cells": [
  {
   "cell_type": "markdown",
   "metadata": {},
   "source": [
    "## Spatial Pooler（空間プーリング）"
   ]
  },
  {
   "cell_type": "code",
   "execution_count": 1,
   "metadata": {},
   "outputs": [],
   "source": [
    "from htm.bindings.sdr import SDR\n",
    "from htm.algorithms import SpatialPooler as SP"
   ]
  },
  {
   "cell_type": "code",
   "execution_count": 3,
   "metadata": {},
   "outputs": [
    {
     "name": "stdout",
     "output_type": "stream",
     "text": [
      "cat =        SDR( 15 ) 3, 4, 5\n",
      "dog =        SDR( 15 ) 6, 7, 8\n",
      "monkey =     SDR( 15 ) 9, 10, 11\n",
      "slow loris = SDR( 15 ) 12, 13, 14\n"
     ]
    }
   ],
   "source": [
    "from htm.bindings.encoders import ScalarEncoder, ScalarEncoderParameters\n",
    "categories = (\"unknown\",\"cat\", \"dog\", \"monkey\", \"slow loris\")\n",
    "\n",
    "scalarEncoderParams = ScalarEncoderParameters()\n",
    "scalarEncoderParams.minimum = 1\n",
    "scalarEncoderParams.maximum = 5\n",
    "scalarEncoderParams.activeBits = 3\n",
    "scalarEncoderParams.category = True\n",
    "\n",
    "enc = ScalarEncoder(scalarEncoderParams)\n",
    "\n",
    "cat = enc.encode(categories.index(\"cat\")+1)\n",
    "dog = enc.encode(categories.index(\"dog\")+1)\n",
    "monkey = enc.encode(categories.index(\"monkey\")+1)\n",
    "loris = enc.encode(categories.index(\"slow loris\")+1)\n",
    "\n",
    "print (\"cat =       \", cat)\n",
    "print (\"dog =       \", dog)\n",
    "print (\"monkey =    \", monkey)\n",
    "print (\"slow loris =\", loris)"
   ]
  },
  {
   "cell_type": "code",
   "execution_count": 5,
   "metadata": {},
   "outputs": [
    {
     "name": "stdout",
     "output_type": "stream",
     "text": [
      "15\n",
      "[0 0 0 1 1 1 0 0 0 0 0 0 0 0 0]\n"
     ]
    }
   ],
   "source": [
    "print (len(cat.dense))\n",
    "print (cat.dense)"
   ]
  },
  {
   "cell_type": "markdown",
   "metadata": {},
   "source": [
    "**`SpatialPooler(...)`**\n",
    "\n",
    "空間プーラーを実装したクラスである。領域のカラムと入力ビットの関係を扱う。\n",
    "\n",
    "この関数の主要なパブリック・インタフェースは \"compute\" メソッドであり、入力ベクトルを受け取り、activeColumns カラムのリストを返す。\n",
    "\n",
    "```\n",
    "sp = SpatialPooler(...)\n",
    "for line in file:\n",
    "  inputVector = numpy.array(line)\n",
    "  sp.compute(inputVector)\n",
    "  ...\n",
    "```\n",
    "\n",
    "**パラメータ**\n",
    "- `inputDimensions` - (int) 入力ベクトルの次元を表すシーケンス\n",
    "- `columnDimensions` - (int) リージョン内のカラムの寸法を表すシーケンス\n",
    "- `potentialRadius` - (int) 各カラムが潜在的に接続できる入力の範囲を決定します\n",
    "- `numActiveColumnsPerInhArea` - (float) アクティブなカラムの密度を制御する別の方法\n",
    "- `globalInhibition` - (bool) true の場合、抑制フェーズの間、勝利したカラムは、リージョン全体の中で最もアクティブなカラムとして選択されます\n",
    "- `synPermActiveInc` - (float) アクティブなシナプスが各ラウンドで増加する量\n",
    "- `potentialPct` - (float) カラムのポテンシャル半径内で、カラムが接続できる入力のパーセンテージ\n",
    "\n",
    "**`getConnectedSynapses(columnIndex, connectedSynapses)`**\n",
    "\n",
    "**パラメータ**\n",
    "- connectedSynapses -  (list)は上書きされます。\n",
    "\n",
    "**戻り値**\n",
    "- (iter) 指定されたカラムに接続されているシナプスの数を返す。"
   ]
  },
  {
   "cell_type": "code",
   "execution_count": 56,
   "metadata": {},
   "outputs": [],
   "source": [
    "inputSDR  = SDR( dimensions = (4,4) )\n",
    "outputSDR = SDR( dimensions = (8,8) )\n",
    "\n",
    "sp = SP(inputSDR.dimensions,\n",
    "        outputSDR.dimensions,\n",
    "        potentialRadius = int(0.5 * inputSDR.size),\n",
    "        localAreaDensity = .02,\n",
    "        globalInhibition = True,\n",
    "        seed = 0,\n",
    "        synPermActiveInc = 0.01,\n",
    "        potentialPct = 0.85)\n",
    "\n",
    "import numpy\n",
    "#for column in range(4):\n",
    "#    connected = numpy.zeros((15,), dtype=\"int\")\n",
    "#    sp.getConnectedSynapses(column, connected)\n",
    " #   print (connected)"
   ]
  },
  {
   "cell_type": "markdown",
   "metadata": {},
   "source": [
    "**`compute(inputVector, learn, activeArray)`**\n",
    "\n",
    "これは SpatialPooler クラスの主要なパブリック・メソッドです。\n",
    "この関数は入力ベクトルを受け取り、アクティブなカラムのインデックスを出力します。\n",
    "`learn` が True に設定されている場合、このメソッドはカラムの永続性も更新します。\n",
    "\n",
    "**パラメーター**\n",
    "\n",
    "- `inputVector` - 空間プーラーへの入力を構成する0と1のnumpy配列．配列は1次元配列として扱われるので，配列の次元はクラスのコンストラクタで指定された次元と正確に一致する必要はありません．\n",
    "\n",
    "- `learn` - 学習を行うかどうかを示すブール値．学習はシナプスの永続値を更新し、モデルの「状態」を修正することを意味する\n",
    "\n",
    "- `activeArray` - カラム数と同じサイズの配列。関数が返す前に、この配列にはアクティブなカラムのインデックスに 1 が、それ以外の場所には 0 が格納されます。"
   ]
  },
  {
   "cell_type": "code",
   "execution_count": 53,
   "metadata": {},
   "outputs": [
    {
     "ename": "RuntimeError",
     "evalue": "Exception: Sdr.cpp(158) message: CHECK FAILED: \"newSize == size\" SDR.reshape changed the size of the SDR!",
     "output_type": "error",
     "traceback": [
      "\u001b[0;31m---------------------------------------------------------------------------\u001b[0m",
      "\u001b[0;31mRuntimeError\u001b[0m                              Traceback (most recent call last)",
      "\u001b[0;32m<ipython-input-53-a519246027b3>\u001b[0m in \u001b[0;36m<module>\u001b[0;34m\u001b[0m\n\u001b[1;32m      1\u001b[0m \u001b[0;31m#output = numpy.zeros((4,), dtype=\"int\")\u001b[0m\u001b[0;34m\u001b[0m\u001b[0;34m\u001b[0m\u001b[0;34m\u001b[0m\u001b[0m\n\u001b[1;32m      2\u001b[0m \u001b[0;31m#sp.compute(cat, learn=True, activeArray=output)\u001b[0m\u001b[0;34m\u001b[0m\u001b[0;34m\u001b[0m\u001b[0;34m\u001b[0m\u001b[0m\n\u001b[0;32m----> 3\u001b[0;31m \u001b[0msp\u001b[0m\u001b[0;34m.\u001b[0m\u001b[0mcompute\u001b[0m\u001b[0;34m(\u001b[0m\u001b[0mcat\u001b[0m\u001b[0;34m,\u001b[0m \u001b[0;32mTrue\u001b[0m\u001b[0;34m,\u001b[0m \u001b[0moutputSDR\u001b[0m\u001b[0;34m)\u001b[0m\u001b[0;34m\u001b[0m\u001b[0;34m\u001b[0m\u001b[0m\n\u001b[0m\u001b[1;32m      4\u001b[0m \u001b[0mprint\u001b[0m \u001b[0;34m(\u001b[0m\u001b[0moutputSDR\u001b[0m\u001b[0;34m)\u001b[0m\u001b[0;34m\u001b[0m\u001b[0;34m\u001b[0m\u001b[0m\n",
      "\u001b[0;31mRuntimeError\u001b[0m: Exception: Sdr.cpp(158) message: CHECK FAILED: \"newSize == size\" SDR.reshape changed the size of the SDR!"
     ]
    }
   ],
   "source": [
    "#output = numpy.zeros((4,), dtype=\"int\")\n",
    "#sp.compute(cat, learn=True, activeArray=output)\n",
    "sp.compute(cat, True, outputSDR)\n",
    "print (outputSDR)"
   ]
  },
  {
   "cell_type": "markdown",
   "metadata": {},
   "source": [
    "`xrange(20)`20回学習"
   ]
  },
  {
   "cell_type": "code",
   "execution_count": 44,
   "metadata": {},
   "outputs": [
    {
     "name": "stdout",
     "output_type": "stream",
     "text": [
      "SDR( 52, 1 ) 0\n"
     ]
    }
   ],
   "source": [
    "for _ in range(20):\n",
    "    sp.compute(cat, True, outputSDR)\n",
    "print (outputSDR)\n",
    "\n",
    "#for column in xrange(4):\n",
    "#    connected = numpy.zeros((15,), dtype=\"int\")\n",
    "#    sp.getConnectedSynapses(column, connected)\n",
    "#    print connected"
   ]
  },
  {
   "cell_type": "markdown",
   "metadata": {},
   "source": [
    "`xrange(200)`200回学習"
   ]
  },
  {
   "cell_type": "code",
   "execution_count": 46,
   "metadata": {},
   "outputs": [
    {
     "name": "stdout",
     "output_type": "stream",
     "text": [
      "SDR( 52, 1 ) 3\n"
     ]
    }
   ],
   "source": [
    "for _ in range(200):\n",
    "    sp.compute(cat, True, outputSDR)\n",
    "    sp.compute(dog, True, outputSDR)\n",
    "    sp.compute(monkey, True, outputSDR)\n",
    "    sp.compute(loris, True, outputSDR)\n",
    "print (outputSDR)"
   ]
  },
  {
   "cell_type": "code",
   "execution_count": null,
   "metadata": {},
   "outputs": [],
   "source": [
    "for column in xrange(4):\n",
    "    connected = numpy.zeros((15,), dtype=\"int\")\n",
    "    sp.getConnectedSynapses(column, connected)\n",
    "    print connected"
   ]
  },
  {
   "cell_type": "code",
   "execution_count": null,
   "metadata": {},
   "outputs": [],
   "source": [
    "noisyCat = numpy.zeros((15,), dtype=\"uint32\")\n",
    "noisyCat[3] = 1\n",
    "noisyCat[4] = 1\n",
    "# This is part of dog!\n",
    "noisyCat[6] = 1\n",
    "print noisyCat"
   ]
  },
  {
   "cell_type": "code",
   "execution_count": null,
   "metadata": {},
   "outputs": [],
   "source": [
    "sp.compute(noisyCat, learn=False, activeArray=output)\n",
    "print output  # matches cat!"
   ]
  }
 ],
 "metadata": {
  "kernelspec": {
   "display_name": "Python 3.7.1 64-bit",
   "language": "python",
   "name": "python37164biteddaa04d9bd6403f87a9a26eeb0f918e"
  },
  "language_info": {
   "codemirror_mode": {
    "name": "ipython",
    "version": 3
   },
   "file_extension": ".py",
   "mimetype": "text/x-python",
   "name": "python",
   "nbconvert_exporter": "python",
   "pygments_lexer": "ipython3",
   "version": "3.7.1"
  }
 },
 "nbformat": 4,
 "nbformat_minor": 2
}
