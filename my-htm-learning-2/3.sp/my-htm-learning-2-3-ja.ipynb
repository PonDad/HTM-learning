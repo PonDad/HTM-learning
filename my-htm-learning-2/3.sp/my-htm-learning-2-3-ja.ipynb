{
 "cells": [
  {
   "cell_type": "markdown",
   "metadata": {},
   "source": [
    "## Spatial Pooler（空間プーリング）"
   ]
  },
  {
   "cell_type": "code",
   "execution_count": null,
   "metadata": {},
   "outputs": [],
   "source": [
    "from nupic.algorithms.spatial_pooler import SpatialPooler"
   ]
  },
  {
   "cell_type": "code",
   "execution_count": null,
   "metadata": {},
   "outputs": [],
   "source": [
    "from nupic.encoders.category import CategoryEncoder\n",
    "\n",
    "categories = (\"cat\", \"dog\", \"monkey\", \"slow loris\")\n",
    "encoder = CategoryEncoder(w=3, categoryList=categories, forced=True)\n",
    "cat = encoder.encode(\"cat\")\n",
    "dog = encoder.encode(\"dog\")\n",
    "monkey = encoder.encode(\"monkey\")\n",
    "loris = encoder.encode(\"slow loris\")\n",
    "print \"cat =       \", cat\n",
    "print \"dog =       \", dog\n",
    "print \"monkey =    \", monkey\n",
    "print \"slow loris =\", loris"
   ]
  },
  {
   "cell_type": "code",
   "execution_count": null,
   "metadata": {},
   "outputs": [],
   "source": [
    "print len(cat)\n",
    "print cat"
   ]
  },
  {
   "cell_type": "markdown",
   "metadata": {},
   "source": [
    "**`SpatialPooler(...)`**\n",
    "\n",
    "空間プーラーを実装したクラスである。領域のカラムと入力ビットの関係を扱う。\n",
    "\n",
    "この関数の主要なパブリック・インタフェースは \"compute\" メソッドであり、入力ベクトルを受け取り、activeColumns カラムのリストを返す。\n",
    "\n",
    "```\n",
    "sp = SpatialPooler(...)\n",
    "for line in file:\n",
    "  inputVector = numpy.array(line)\n",
    "  sp.compute(inputVector)\n",
    "  ...\n",
    "```\n",
    "\n",
    "**パラメータ**\n",
    "- `inputDimensions` - (int) 入力ベクトルの次元を表すシーケンス\n",
    "- `columnDimensions` - (int) リージョン内のカラムの寸法を表すシーケンス\n",
    "- `potentialRadius` - (int) 各カラムが潜在的に接続できる入力の範囲を決定します\n",
    "- `numActiveColumnsPerInhArea` - (float) アクティブなカラムの密度を制御する別の方法\n",
    "- `globalInhibition` - (bool) true の場合、抑制フェーズの間、勝利したカラムは、リージョン全体の中で最もアクティブなカラムとして選択されます\n",
    "- `synPermActiveInc` - (float) アクティブなシナプスが各ラウンドで増加する量\n",
    "- `potentialPct` - (float) カラムのポテンシャル半径内で、カラムが接続できる入力のパーセンテージ\n",
    "\n",
    "**`getConnectedSynapses(columnIndex, connectedSynapses)`**\n",
    "\n",
    "**パラメータ**\n",
    "- connectedSynapses -  (list)は上書きされます。\n",
    "\n",
    "**戻り値**\n",
    "- (iter) 指定されたカラムに接続されているシナプスの数を返す。"
   ]
  },
  {
   "cell_type": "code",
   "execution_count": null,
   "metadata": {},
   "outputs": [],
   "source": [
    "sp = SpatialPooler(inputDimensions=(15,),\n",
    "                   columnDimensions=(4,),\n",
    "                   potentialRadius=15,\n",
    "                   numActiveColumnsPerInhArea=1,\n",
    "                   globalInhibition=True,\n",
    "                   synPermActiveInc=0.03,\n",
    "                   potentialPct=1.0)\n",
    "\n",
    "import numpy\n",
    "for column in xrange(4):\n",
    "    connected = numpy.zeros((15,), dtype=\"int\")\n",
    "    sp.getConnectedSynapses(column, connected)\n",
    "    print connected"
   ]
  },
  {
   "cell_type": "markdown",
   "metadata": {},
   "source": [
    "**`compute(inputVector, learn, activeArray)`**\n",
    "\n",
    "これは SpatialPooler クラスの主要なパブリック・メソッドです。\n",
    "この関数は入力ベクトルを受け取り、アクティブなカラムのインデックスを出力します。\n",
    "`learn` が True に設定されている場合、このメソッドはカラムの永続性も更新します。\n",
    "\n",
    "**パラメーター**\n",
    "\n",
    "- `inputVector` - 空間プーラーへの入力を構成する0と1のnumpy配列．配列は1次元配列として扱われるので，配列の次元はクラスのコンストラクタで指定された次元と正確に一致する必要はありません．\n",
    "\n",
    "- `learn` - 学習を行うかどうかを示すブール値．学習はシナプスの永続値を更新し、モデルの「状態」を修正することを意味する\n",
    "\n",
    "- `activeArray` - カラム数と同じサイズの配列。関数が返す前に、この配列にはアクティブなカラムのインデックスに 1 が、それ以外の場所には 0 が格納されます。"
   ]
  },
  {
   "cell_type": "code",
   "execution_count": null,
   "metadata": {},
   "outputs": [],
   "source": [
    "output = numpy.zeros((4,), dtype=\"int\")\n",
    "sp.compute(cat, learn=True, activeArray=output)\n",
    "print output"
   ]
  },
  {
   "cell_type": "markdown",
   "metadata": {},
   "source": [
    "`xrange(20)`20回学習"
   ]
  },
  {
   "cell_type": "code",
   "execution_count": null,
   "metadata": {},
   "outputs": [],
   "source": [
    "for _ in xrange(20):\n",
    "    sp.compute(cat, learn=True, activeArray=output)\n",
    "\n",
    "for column in xrange(4):\n",
    "    connected = numpy.zeros((15,), dtype=\"int\")\n",
    "    sp.getConnectedSynapses(column, connected)\n",
    "    print connected"
   ]
  },
  {
   "cell_type": "markdown",
   "metadata": {},
   "source": [
    "`xrange(200)`200回学習"
   ]
  },
  {
   "cell_type": "code",
   "execution_count": null,
   "metadata": {},
   "outputs": [],
   "source": [
    "for _ in xrange(200):\n",
    "    sp.compute(cat, learn=True, activeArray=output)\n",
    "    sp.compute(dog, learn=True, activeArray=output)\n",
    "    sp.compute(monkey, learn=True, activeArray=output)\n",
    "    sp.compute(loris, learn=True, activeArray=output)"
   ]
  },
  {
   "cell_type": "code",
   "execution_count": null,
   "metadata": {},
   "outputs": [],
   "source": [
    "for column in xrange(4):\n",
    "    connected = numpy.zeros((15,), dtype=\"int\")\n",
    "    sp.getConnectedSynapses(column, connected)\n",
    "    print connected"
   ]
  },
  {
   "cell_type": "code",
   "execution_count": null,
   "metadata": {},
   "outputs": [],
   "source": [
    "noisyCat = numpy.zeros((15,), dtype=\"uint32\")\n",
    "noisyCat[3] = 1\n",
    "noisyCat[4] = 1\n",
    "# This is part of dog!\n",
    "noisyCat[6] = 1\n",
    "print noisyCat"
   ]
  },
  {
   "cell_type": "code",
   "execution_count": null,
   "metadata": {},
   "outputs": [],
   "source": [
    "sp.compute(noisyCat, learn=False, activeArray=output)\n",
    "print output  # matches cat!"
   ]
  }
 ],
 "metadata": {},
 "nbformat": 4,
 "nbformat_minor": 2
}