{
 "cells": [
  {
   "cell_type": "markdown",
   "metadata": {},
   "source": [
    "## Encoders（エンコーダー）\n",
    "\n",
    "HTM入力用のSDRに異なる型を符号化するためのクラス。\n",
    "\n",
    "汎用性の高いと思われる以下の4種類は別途クラスが用意されています。\n",
    "\n",
    "- Scalar（スカラーエンコーダー）\n",
    "- Date/time（日付エンコーダー）\n",
    "- Category（カテゴリーエンコーダー）\n",
    "- Multi（マルチエンコーダー）"
   ]
  },
  {
   "cell_type": "code",
   "execution_count": 40,
   "metadata": {},
   "outputs": [],
   "source": [
    "import numpy as np"
   ]
  },
  {
   "cell_type": "markdown",
   "metadata": {},
   "source": [
    "### ScalarEncoder（スカラーエンコーダー）\n",
    "\n",
    "スカラーエンコーダは、数値（浮動小数点）をビットの配列にエンコードします。出力は 1 の連続するブロックを除いて 0 です。この連続するブロックの位置は、入力値によって連続的に変化します。\n",
    "\n",
    "エンコーディングは線形です。非線形エンコーディングをしたい場合は、エンコーディングの前にスカラを（対数関数を適用するなどして）変換してください"
   ]
  },
  {
   "cell_type": "code",
   "execution_count": 114,
   "metadata": {},
   "outputs": [],
   "source": [
    "from htm.bindings.encoders import ScalarEncoder, ScalarEncoderParameters\n",
    "from htm.bindings.sdr import SDR, Metrics"
   ]
  },
  {
   "cell_type": "markdown",
   "metadata": {},
   "source": [
    "**パラメータ**\n",
    "- `activeBits`: (int) 出力のビット数．\n",
    "- `size`: (int)  1つの値をエンコードするために設定されるビット数 - 出力信号の \"幅 \"制限：センタリングの問題を避けるため，`size`は奇数でなければいけません\n",
    "- `minimum`: (float) 入力信号の最小値．\n",
    "- `maximum`: (float) 入力信号の上限値．(periodic == True の場合，入力は厳密にはより小さい値になります)\n",
    "- `clipInput`: `true` の場合，`minmum`, `maxmum`の範囲外の値をエンコードしません"
   ]
  },
  {
   "cell_type": "code",
   "execution_count": 134,
   "metadata": {},
   "outputs": [
    {
     "output_type": "stream",
     "name": "stdout",
     "text": "3 = SDR( 23 ) 0, 1, 2\n4 = SDR( 23 ) 0, 1, 2\n5 = SDR( 23 ) 1, 2, 3\n"
    }
   ],
   "source": [
    "scalarEncoderParams = ScalarEncoderParameters()\n",
    "scalarEncoderParams.minimum = 2.5\n",
    "scalarEncoderParams.maximum = 97.5\n",
    "scalarEncoderParams.activeBits = 3\n",
    "scalarEncoderParams.size = 23\n",
    "scalarEncoderParams.clipInput  = True\n",
    "\n",
    "enc = ScalarEncoder(scalarEncoderParams)\n",
    "\n",
    "print (\"3 =\", enc.encode(3))\n",
    "print (\"4 =\", enc.encode(4))\n",
    "print (\"5 =\", enc.encode(5))"
   ]
  },
  {
   "cell_type": "code",
   "execution_count": 135,
   "metadata": {},
   "outputs": [
    {
     "output_type": "stream",
     "name": "stdout",
     "text": "100  = SDR( 23 ) 20, 21, 22\n1000 = SDR( 23 ) 20, 21, 22\n"
    }
   ],
   "source": [
    "# maxmumをエンコードします。\n",
    "print (\"100  =\", enc.encode(100))\n",
    "\n",
    "# より大きな数値が同じエンコーディングを取得することを確認してください。\n",
    "print (\"1000 =\", enc.encode(1000))"
   ]
  },
  {
   "cell_type": "markdown",
   "metadata": {},
   "source": [
    "### RandomDistributedScalarEncoder（ランダム分散スカラーエンコーダー）\n",
    "\n",
    "このクラスは，スカラ値を空間プーラーへのスカラ入力に適したランダム分布表現にマップします．"
   ]
  },
  {
   "cell_type": "code",
   "execution_count": 10,
   "metadata": {},
   "outputs": [],
   "source": [
    "from htm.bindings.encoders import RDSE, RDSE_Parameters\n",
    "from htm.bindings.sdr import SDR, Metrics"
   ]
  },
  {
   "cell_type": "markdown",
   "metadata": {},
   "source": [
    "**パラメータ**\n",
    "- `size`: (int) 表現のビット数（`> activeBits` でなければならない）。範囲が大きくなっても新しい表現を選択できるように、`size` は十分に大きくなければならない。`activeBits = 21` の場合、`size = 400` の値が典型的です．\n",
    "- `activeBits`: (int) 空間プーラー列が十分に大きくオーバーラップして偽一致を避けるために十分に大きくなければならない。一般的には `activeBits = 21` の値が用いられる\n",
    "- `resolution`: (float) 出力表現の解像度を表す浮動小数点型の正の数値．"
   ]
  },
  {
   "cell_type": "code",
   "execution_count": 11,
   "metadata": {},
   "outputs": [
    {
     "output_type": "stream",
     "name": "stdout",
     "text": "3 =    SDR( 23 ) 9, 11, 16\n4 =    SDR( 23 ) 9, 11, 16\n5 =    SDR( 23 ) 11, 16\n---\n100 =  SDR( 23 ) 6, 13, 19\n1000 = SDR( 23 ) 0, 3, 12\n"
    }
   ],
   "source": [
    "RDSE_Parameters = RDSE_Parameters()\n",
    "RDSE_Parameters.activeBits = 3\n",
    "RDSE_Parameters.resolution = 5\n",
    "RDSE_Parameters.size       = 23\n",
    "\n",
    "enc = RDSE( RDSE_Parameters )\n",
    "\n",
    "print (\"3 =   \", enc.encode(3))\n",
    "print (\"4 =   \", enc.encode(4))\n",
    "print (\"5 =   \", enc.encode(5))\n",
    "print (\"---\")\n",
    "print (\"100 = \", enc.encode(100))\n",
    "print (\"1000 =\", enc.encode(1000))"
   ]
  },
  {
   "cell_type": "markdown",
   "metadata": {},
   "source": [
    "### DateEncoder（日付エンコーダ）\n",
    "\n",
    "日付エンコーダは、コンストラクタで指定したエンコーディングパラメータに従って日付をエンコードします。\n",
    "\n",
    "日付エンコーダへの入力は `datetime.datetime` オブジェクトです。\n",
    "\n",
    "出力は、複数のサブエンコーディングを連結したもので、それぞれが日付の異なる側面をエンコードします。"
   ]
  },
  {
   "cell_type": "code",
   "execution_count": 56,
   "metadata": {},
   "outputs": [],
   "source": [
    "import datetime\n",
    "from htm.encoders.date import DateEncoder"
   ]
  },
  {
   "cell_type": "markdown",
   "metadata": {},
   "source": [
    "**パラメータ**\n",
    "- `season`: (int | tuple) 一年の季節。\n",
    "    - (int) 属性の幅; デフォルトの半径 = 91.5日 (1シーズン)\n",
    "    - (tuple) `season[0] = width;`  `season[1] = radius`\n",
    "\n",
    "- `dayOfWeek`: (int | tuple) Day of week, where monday = 0, units = 1 day.タイムスタンプはday:noonと比較されるので、エンコーディングは真夜中に表現を切り替えます.\n",
    "    - (int) width of attribute; default radius = 1 day\n",
    "    - (tuple) dayOfWeek[0] = width; dayOfWeek[1] = radius\n",
    "\n",
    "- `weekend`: (int) 週末かどうか。注意:実装では \"weekend \"は金曜日の午後6時から日曜日の午前0時までと扱う。\n",
    "    - (int) 属性の幅\n",
    "    - TODO remove and replace by customDays=(width, [\"Saturday\", \"Sunday\"]) ?\n",
    "\n",
    "- `holiday`: (int)休日かどうか, boolean: 0, 1\n",
    "    - (int) 属性の幅\n",
    "\n",
    "- `timeOfday`: (int | tuple) 一日の時間, where midnight = 0, units = hour.\n",
    "    - (int) 属性の幅: default radius = 4 hours\n",
    "    - (tuple) timeOfDay[0] = width; timeOfDay[1] = radius\n",
    "    \n",
    "- `customDays`: (tuple)特定の曜日をカスタムエンコードする方法です.\n",
    "    - [0] (int) 属性の幅\n",
    "    - [1] (str | list) \"Monday\" や \"mon\" のような曜日を表す文字列、またはこれらの文字列のリスト.\n"
   ]
  },
  {
   "cell_type": "code",
   "execution_count": 57,
   "metadata": {},
   "outputs": [
    {
     "output_type": "stream",
     "name": "stdout",
     "text": "now =        SDR( 20 ) 7, 8, 9, 10, 11\nnext month = SDR( 20 ) 8, 9, 10, 11, 12\nxmas =       SDR( 20 ) 0, 1, 2, 3, 4\n"
    }
   ],
   "source": [
    "dateEncoder = DateEncoder(season  = 5) \n",
    "\n",
    "now = datetime.datetime.strptime(\"2014-05-02 13:08:58\", \"%Y-%m-%d %H:%M:%S\")\n",
    "print (\"now =       \", dateEncoder.encode(now))\n",
    "\n",
    "nextMonth = datetime.datetime.strptime(\"2014-06-02 13:08:58\", \"%Y-%m-%d %H:%M:%S\")\n",
    "print (\"next month =\", dateEncoder.encode(nextMonth))\n",
    "\n",
    "xmas = datetime.datetime.strptime(\"2014-12-25 13:08:58\", \"%Y-%m-%d %H:%M:%S\")\n",
    "print (\"xmas =      \", dateEncoder.encode(xmas))"
   ]
  },
  {
   "cell_type": "markdown",
   "metadata": {},
   "source": [
    "### CategoryEncoders（カテゴリエンコーダー）\n",
    "\n",
    "(文字列で記述された）離散的なカテゴリのリストをエンコードします。\n",
    "\n",
    "ゼロの値は \"unknown category \"のために予約されています。\n",
    "\n",
    "内部的には半径1のScalarEncoderを使用していますが、整数のみをエンコードしているため、混合出力は得られません。\n",
    "\n",
    "SDRCategoryEncoder は、別の方法でカテゴリをエンコードします。"
   ]
  },
  {
   "cell_type": "code",
   "execution_count": 1,
   "metadata": {},
   "outputs": [],
   "source": [
    "#from nupic.encoders.category import CategoryEncoder\n",
    "from htm.bindings.encoders import ScalarEncoder, ScalarEncoderParameters\n",
    "from htm.bindings.sdr import SDR, Metrics"
   ]
  },
  {
   "cell_type": "markdown",
   "metadata": {},
   "source": [
    "**パラメータ**\n",
    "- ```categoryList``` – 離散的な文字列カテゴリのリスト\n",
    "- ```forced``` - True の場合、パラメータの設定のチェックをスキップします"
   ]
  },
  {
   "cell_type": "code",
   "execution_count": 8,
   "metadata": {},
   "outputs": [
    {
     "output_type": "stream",
     "name": "stdout",
     "text": "cat =        SDR( 15 ) 0, 1, 2\ndog =        SDR( 15 ) 3, 4, 5\nmonkey =     SDR( 15 ) 6, 7, 8\nslow loris = SDR( 15 ) 9, 10, 11\n"
    }
   ],
   "source": [
    "categories = (\"cat\", \"dog\", \"monkey\", \"slow loris\")\n",
    "#encoder = CategoryEncoder(w=3, categoryList=categories, forced=True)\n",
    "\n",
    "scalarEncoderParams = ScalarEncoderParameters()\n",
    "scalarEncoderParams.minimum = 1\n",
    "scalarEncoderParams.maximum = 4\n",
    "scalarEncoderParams.activeBits = 3\n",
    "#scalarEncoderParams.size = 15\n",
    "#scalarEncoderParams.clipInput  = True\n",
    "scalarEncoderParams.category   = True\n",
    "\n",
    "enc = ScalarEncoder(scalarEncoderParams)\n",
    "\n",
    "#print (\"3 =\", enc.encode(3))\n",
    "#print (\"4 =\", enc.encode(4))\n",
    "#print (\"5 =\", enc.encode(5))\n",
    "\n",
    "\n",
    "cat = enc.encode(1)\n",
    "dog = enc.encode(2)\n",
    "monkey = enc.encode(3)\n",
    "loris = enc.encode(4)\n",
    "print (\"cat =       \", cat)\n",
    "print (\"dog =       \", dog)\n",
    "print (\"monkey =    \", monkey)\n",
    "print (\"slow loris =\", loris)"
   ]
  },
  {
   "cell_type": "code",
   "execution_count": 16,
   "metadata": {},
   "outputs": [
    {
     "output_type": "error",
     "ename": "SyntaxError",
     "evalue": "invalid syntax (<ipython-input-16-aaf07286a84a>, line 1)",
     "traceback": [
      "\u001b[0;36m  File \u001b[0;32m\"<ipython-input-16-aaf07286a84a>\"\u001b[0;36m, line \u001b[0;32m1\u001b[0m\n\u001b[0;31m    print encoder.encode(None)\u001b[0m\n\u001b[0m                ^\u001b[0m\n\u001b[0;31mSyntaxError\u001b[0m\u001b[0;31m:\u001b[0m invalid syntax\n"
     ]
    }
   ],
   "source": [
    "print encoder.encode(None)"
   ]
  },
  {
   "cell_type": "code",
   "execution_count": 17,
   "metadata": {},
   "outputs": [
    {
     "output_type": "error",
     "ename": "SyntaxError",
     "evalue": "invalid syntax (<ipython-input-17-6dd100739f2c>, line 1)",
     "traceback": [
      "\u001b[0;36m  File \u001b[0;32m\"<ipython-input-17-6dd100739f2c>\"\u001b[0;36m, line \u001b[0;32m1\u001b[0m\n\u001b[0;31m    print encoder.encode(\"unknown\")\u001b[0m\n\u001b[0m                ^\u001b[0m\n\u001b[0;31mSyntaxError\u001b[0m\u001b[0;31m:\u001b[0m invalid syntax\n"
     ]
    }
   ],
   "source": [
    "print encoder.encode(\"unknown\")"
   ]
  },
  {
   "cell_type": "code",
   "execution_count": 18,
   "metadata": {},
   "outputs": [
    {
     "output_type": "error",
     "ename": "SyntaxError",
     "evalue": "invalid syntax (<ipython-input-18-5b05df0c6712>, line 1)",
     "traceback": [
      "\u001b[0;36m  File \u001b[0;32m\"<ipython-input-18-5b05df0c6712>\"\u001b[0;36m, line \u001b[0;32m1\u001b[0m\n\u001b[0;31m    print encoder.decode(cat)\u001b[0m\n\u001b[0m                ^\u001b[0m\n\u001b[0;31mSyntaxError\u001b[0m\u001b[0;31m:\u001b[0m invalid syntax\n"
     ]
    }
   ],
   "source": [
    "print encoder.decode(cat)"
   ]
  },
  {
   "cell_type": "code",
   "execution_count": 19,
   "metadata": {},
   "outputs": [
    {
     "output_type": "error",
     "ename": "SyntaxError",
     "evalue": "invalid syntax (<ipython-input-19-811adf8fc7aa>, line 2)",
     "traceback": [
      "\u001b[0;36m  File \u001b[0;32m\"<ipython-input-19-811adf8fc7aa>\"\u001b[0;36m, line \u001b[0;32m2\u001b[0m\n\u001b[0;31m    print encoder.decode(catdog)\u001b[0m\n\u001b[0m                ^\u001b[0m\n\u001b[0;31mSyntaxError\u001b[0m\u001b[0;31m:\u001b[0m invalid syntax\n"
     ]
    }
   ],
   "source": [
    "catdog = numpy.array([0, 0, 0, 1, 0, 1, 0, 1, 1, 0, 0, 0, 0, 0, 0])\n",
    "print encoder.decode(catdog)"
   ]
  },
  {
   "cell_type": "code",
   "execution_count": null,
   "metadata": {},
   "outputs": [],
   "source": []
  }
 ],
 "metadata": {
  "kernelspec": {
   "display_name": "Python 3.6.9 64-bit",
   "language": "python",
   "name": "python36964bitd2502937bfbc4210a952405de63afa73"
  },
  "language_info": {
   "codemirror_mode": {
    "name": "ipython",
    "version": 2
   },
   "file_extension": ".py",
   "mimetype": "text/x-python",
   "name": "python",
   "nbconvert_exporter": "python",
   "pygments_lexer": "ipython2",
   "version": "3.6.9-final"
  }
 },
 "nbformat": 4,
 "nbformat_minor": 2
}