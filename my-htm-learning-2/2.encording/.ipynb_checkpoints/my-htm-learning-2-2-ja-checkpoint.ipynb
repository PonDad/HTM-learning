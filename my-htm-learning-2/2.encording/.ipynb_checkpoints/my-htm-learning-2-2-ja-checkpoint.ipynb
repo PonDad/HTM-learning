{
 "cells": [
  {
   "cell_type": "markdown",
   "metadata": {},
   "source": [
    "## Encoders（エンコーダー）\n",
    "\n",
    "HTM入力用のSDRに異なる型を符号化するためのクラス。\n",
    "\n",
    "汎用性の高いと思われる以下の4種類は別途クラスが用意されています。\n",
    "\n",
    "- Scalar（スカラーエンコーダー）\n",
    "- Date/time（日付エンコーダー）\n",
    "- Category（カテゴリーエンコーダー）\n",
    "- Multi（マルチエンコーダー）"
   ]
  },
  {
   "cell_type": "code",
   "execution_count": 143,
   "metadata": {},
   "outputs": [],
   "source": [
    "import numpy"
   ]
  },
  {
   "cell_type": "markdown",
   "metadata": {},
   "source": [
    "### ScalarEncoder（スカラーエンコーダー）\n",
    "\n",
    "スカラーエンコーダは、数値（浮動小数点）をビットの配列にエンコードします。出力は 1 の連続するブロックを除いて 0 です。この連続するブロックの位置は、入力値によって連続的に変化します。\n",
    "\n",
    "エンコーディングは線形です。非線形エンコーディングをしたい場合は、エンコーディングの前にスカラを（対数関数を適用するなどして）変換してください"
   ]
  },
  {
   "cell_type": "code",
   "execution_count": 144,
   "metadata": {},
   "outputs": [],
   "source": [
    "from htm.bindings.encoders import ScalarEncoder, ScalarEncoderParameters\n",
    "from htm.bindings.sdr import SDR, Metrics"
   ]
  },
  {
   "cell_type": "markdown",
   "metadata": {},
   "source": [
    "**パラメータ**\n",
    "- `activeBits`: (int) 出力のビット数．\n",
    "- `size`: (int)  1つの値をエンコードするために設定されるビット数 - 出力信号の \"幅 \"制限：センタリングの問題を避けるため，`size`は奇数でなければいけません\n",
    "- `minimum`: (float) 入力信号の最小値．\n",
    "- `maximum`: (float) 入力信号の上限値．(periodic == True の場合，入力は厳密にはより小さい値になります)\n",
    "- `clipInput`: `true` の場合，`minmum`, `maxmum`の範囲外の値をエンコードしません"
   ]
  },
  {
   "cell_type": "code",
   "execution_count": 145,
   "metadata": {},
   "outputs": [
    {
     "name": "stdout",
     "output_type": "stream",
     "text": [
      "3 = SDR( 23 ) 0, 1, 2\n",
      "4 = SDR( 23 ) 0, 1, 2\n",
      "5 = SDR( 23 ) 1, 2, 3\n"
     ]
    }
   ],
   "source": [
    "scalarEncoderParams = ScalarEncoderParameters()\n",
    "scalarEncoderParams.minimum = 2.5\n",
    "scalarEncoderParams.maximum = 97.5\n",
    "scalarEncoderParams.activeBits = 3\n",
    "scalarEncoderParams.size = 23\n",
    "scalarEncoderParams.clipInput  = True\n",
    "\n",
    "enc = ScalarEncoder(scalarEncoderParams)\n",
    "\n",
    "print (\"3 =\", enc.encode(3))\n",
    "print (\"4 =\", enc.encode(4))\n",
    "print (\"5 =\", enc.encode(5))"
   ]
  },
  {
   "cell_type": "code",
   "execution_count": 146,
   "metadata": {},
   "outputs": [
    {
     "name": "stdout",
     "output_type": "stream",
     "text": [
      "3 = [1 1 1 0 0 0 0 0 0 0 0 0 0 0 0 0 0 0 0 0 0 0 0]\n",
      "4 = [1 1 1 0 0 0 0 0 0 0 0 0 0 0 0 0 0 0 0 0 0 0 0]\n",
      "5 = [0 1 1 1 0 0 0 0 0 0 0 0 0 0 0 0 0 0 0 0 0 0 0]\n"
     ]
    }
   ],
   "source": [
    "print (\"3 =\", enc.encode(3).dense)\n",
    "print (\"4 =\", enc.encode(4).dense)\n",
    "print (\"5 =\", enc.encode(5).dense)"
   ]
  },
  {
   "cell_type": "code",
   "execution_count": 147,
   "metadata": {},
   "outputs": [
    {
     "data": {
      "image/png": "[encoded data removed]",
      "text/plain": [
       "<Figure size 432x288 with 1 Axes>"
      ]
     },
     "metadata": {
      "needs_background": "light"
     },
     "output_type": "display_data"
    }
   ],
   "source": [
    "n_samples = (enc.parameters.maximum - enc.parameters.minimum) / enc.parameters.resolution\n",
    "oversample = 2 # Use more samples than needed to avoid aliasing & artifacts.\n",
    "n_samples  = int(round( oversample * n_samples ))\n",
    "\n",
    "sdrs = []\n",
    "for i in np.linspace(enc.parameters.minimum, enc.parameters.maximum, n_samples):\n",
    "  sdrs.append( enc.encode( i ) )\n",
    "\n",
    "import matplotlib.pyplot as plt\n",
    "%matplotlib inline\n",
    "\n",
    "rf = np.zeros([ enc.size, len(sdrs) ], dtype=np.uint8)\n",
    "for i in range(len(sdrs)):\n",
    "  rf[ :, i ] = sdrs[i].dense\n",
    "plt.imshow(rf, interpolation='nearest')\n",
    "plt.title( \"ScalarEncoder Receptive Fields\")\n",
    "plt.ylabel(\"Cell Number\")\n",
    "plt.xlabel(\"Input Value\")\n",
    "n_ticks = 11\n",
    "plt.xticks( np.linspace(0, len(sdrs)-1, n_ticks),\n",
    "          np.linspace(enc.parameters.minimum, enc.parameters.maximum, n_ticks))\n",
    "plt.show()"
   ]
  },
  {
   "cell_type": "code",
   "execution_count": 148,
   "metadata": {},
   "outputs": [
    {
     "name": "stdout",
     "output_type": "stream",
     "text": [
      "100  = SDR( 23 ) 20, 21, 22\n",
      "1000 = SDR( 23 ) 20, 21, 22\n"
     ]
    }
   ],
   "source": [
    "# maxmumをエンコードします。\n",
    "print (\"100  =\", enc.encode(100))\n",
    "\n",
    "# より大きな数値が同じエンコーディングを取得することを確認してください。\n",
    "print (\"1000 =\", enc.encode(1000))"
   ]
  },
  {
   "cell_type": "markdown",
   "metadata": {},
   "source": [
    "### RandomDistributedScalarEncoder（ランダム分散スカラーエンコーダー）\n",
    "\n",
    "このクラスは，スカラ値を空間プーラーへのスカラ入力に適したランダム分布表現にマップします．"
   ]
  },
  {
   "cell_type": "code",
   "execution_count": 149,
   "metadata": {},
   "outputs": [],
   "source": [
    "from htm.bindings.encoders import RDSE, RDSE_Parameters\n",
    "from htm.bindings.sdr import SDR, Metrics"
   ]
  },
  {
   "cell_type": "markdown",
   "metadata": {},
   "source": [
    "**パラメータ**\n",
    "- `size`: (int) 表現のビット数（`> activeBits` でなければならない）。範囲が大きくなっても新しい表現を選択できるように、`size` は十分に大きくなければならない。`activeBits = 21` の場合、`size = 400` の値が典型的です．\n",
    "- `activeBits`: (int) 空間プーラー列が十分に大きくオーバーラップして偽一致を避けるために十分に大きくなければならない。一般的には `activeBits = 21` の値が用いられる\n",
    "- `resolution`: (float) 出力表現の解像度を表す浮動小数点型の正の数値．"
   ]
  },
  {
   "cell_type": "code",
   "execution_count": 150,
   "metadata": {},
   "outputs": [
    {
     "name": "stdout",
     "output_type": "stream",
     "text": [
      "3 =    SDR( 21 ) 2, 7, 12\n",
      "4 =    SDR( 21 ) 2, 7, 12\n",
      "5 =    SDR( 21 ) 2, 12\n",
      "---\n",
      "100 =  SDR( 21 ) 4, 8, 20\n",
      "1000 = SDR( 21 ) 2, 11, 16\n"
     ]
    }
   ],
   "source": [
    "RDSE_Parameters = RDSE_Parameters()\n",
    "RDSE_Parameters.activeBits = 3\n",
    "RDSE_Parameters.resolution = 5\n",
    "RDSE_Parameters.size       = 21\n",
    "\n",
    "enc = RDSE( RDSE_Parameters )\n",
    "\n",
    "print (\"3 =   \", enc.encode(3))\n",
    "print (\"4 =   \", enc.encode(4))\n",
    "print (\"5 =   \", enc.encode(5))\n",
    "print (\"---\")\n",
    "print (\"100 = \", enc.encode(100))\n",
    "print (\"1000 =\", enc.encode(1000))"
   ]
  },
  {
   "cell_type": "code",
   "execution_count": 151,
   "metadata": {},
   "outputs": [
    {
     "name": "stdout",
     "output_type": "stream",
     "text": [
      "3 =    [0 0 1 0 0 0 0 1 0 0 0 0 1 0 0 0 0 0 0 0 0]\n",
      "4 =    [0 0 1 0 0 0 0 1 0 0 0 0 1 0 0 0 0 0 0 0 0]\n",
      "5 =    [0 0 1 0 0 0 0 0 0 0 0 0 1 0 0 0 0 0 0 0 0]\n",
      "---\n",
      "100 =  [0 0 0 0 1 0 0 0 1 0 0 0 0 0 0 0 0 0 0 0 1]\n",
      "1000 = [0 0 1 0 0 0 0 0 0 0 0 1 0 0 0 0 1 0 0 0 0]\n"
     ]
    }
   ],
   "source": [
    "print (\"3 =   \", enc.encode(3).dense)\n",
    "print (\"4 =   \", enc.encode(4).dense)\n",
    "print (\"5 =   \", enc.encode(5).dense)\n",
    "print (\"---\")\n",
    "print (\"100 = \", enc.encode(100).dense)\n",
    "print (\"1000 =\", enc.encode(1000).dense)"
   ]
  },
  {
   "cell_type": "code",
   "execution_count": 160,
   "metadata": {},
   "outputs": [
    {
     "data": {
      "image/png": "[encoded data removed]",
      "text/plain": [
       "<Figure size 432x288 with 1 Axes>"
      ]
     },
     "metadata": {
      "needs_background": "light"
     },
     "output_type": "display_data"
    }
   ],
   "source": [
    "args_maximum =97.5\n",
    "args_minimum=2.5\n",
    "\n",
    "n_samples = (args_maximum - args_minimum) / enc.parameters.resolution\n",
    "oversample = 2 # Use more samples than needed to avoid aliasing & artifacts.\n",
    "n_samples  = int(round( oversample * n_samples ))\n",
    "\n",
    "sdrs = []\n",
    "for i in numpy.linspace(args_minimum, args_maximum, n_samples):\n",
    "  sdrs.append( enc.encode( i ) )\n",
    "\n",
    "import matplotlib.pyplot as plt\n",
    "%matplotlib inline\n",
    "\n",
    "rf = np.zeros([ enc.size, len(sdrs) ], dtype=np.uint8)\n",
    "for i in range(len(sdrs)):\n",
    "  rf[ :, i ] = sdrs[i].dense\n",
    "plt.imshow(rf, interpolation='nearest')\n",
    "plt.title( \"RDSE Receptive Fields\")\n",
    "plt.ylabel(\"Cell Number\")\n",
    "plt.xlabel(\"Input Value\")\n",
    "n_ticks = 11\n",
    "plt.xticks( np.linspace(0, len(sdrs)-1, n_ticks),\n",
    "          np.linspace(args_minimum, args_maximum, n_ticks))\n",
    "plt.show()"
   ]
  },
  {
   "cell_type": "markdown",
   "metadata": {},
   "source": [
    "### DateEncoder（日付エンコーダ）\n",
    "\n",
    "日付エンコーダは、コンストラクタで指定したエンコーディングパラメータに従って日付をエンコードします。\n",
    "\n",
    "日付エンコーダへの入力は `datetime.datetime` オブジェクトです。\n",
    "\n",
    "出力は、複数のサブエンコーディングを連結したもので、それぞれが日付の異なる側面をエンコードします。"
   ]
  },
  {
   "cell_type": "code",
   "execution_count": 75,
   "metadata": {},
   "outputs": [],
   "source": [
    "import datetime\n",
    "from htm.encoders.date import DateEncoder"
   ]
  },
  {
   "cell_type": "markdown",
   "metadata": {},
   "source": [
    "**パラメータ**\n",
    "- `season`: (int | tuple) 一年の季節。\n",
    "    - (int) 属性の幅; デフォルトの半径 = 91.5日 (1シーズン)\n",
    "    - (tuple) `season[0] = width;`  `season[1] = radius`\n",
    "\n",
    "- `dayOfWeek`: (int | tuple) Day of week, where monday = 0, units = 1 day.タイムスタンプはday:noonと比較されるので、エンコーディングは真夜中に表現を切り替えます.\n",
    "    - (int) width of attribute; default radius = 1 day\n",
    "    - (tuple) dayOfWeek[0] = width; dayOfWeek[1] = radius\n",
    "\n",
    "- `weekend`: (int) 週末かどうか。注意:実装では \"weekend \"は金曜日の午後6時から日曜日の午前0時までと扱う。\n",
    "    - (int) 属性の幅\n",
    "    - TODO remove and replace by customDays=(width, [\"Saturday\", \"Sunday\"]) ?\n",
    "\n",
    "- `holiday`: (int)休日かどうか, boolean: 0, 1\n",
    "    - (int) 属性の幅\n",
    "\n",
    "- `timeOfday`: (int | tuple) 一日の時間, where midnight = 0, units = hour.\n",
    "    - (int) 属性の幅: default radius = 4 hours\n",
    "    - (tuple) timeOfDay[0] = width; timeOfDay[1] = radius\n",
    "    \n",
    "- `customDays`: (tuple)特定の曜日をカスタムエンコードする方法です.\n",
    "    - [0] (int) 属性の幅\n",
    "    - [1] (str | list) \"Monday\" や \"mon\" のような曜日を表す文字列、またはこれらの文字列のリスト.\n"
   ]
  },
  {
   "cell_type": "code",
   "execution_count": 76,
   "metadata": {},
   "outputs": [
    {
     "name": "stdout",
     "output_type": "stream",
     "text": [
      "now =        SDR( 20 ) 7, 8, 9, 10, 11\n",
      "next month = SDR( 20 ) 8, 9, 10, 11, 12\n",
      "xmas =       SDR( 20 ) 0, 1, 2, 3, 4\n"
     ]
    }
   ],
   "source": [
    "dateEncoder = DateEncoder(season  = 5) \n",
    "\n",
    "now = datetime.datetime.strptime(\"2014-05-02 13:08:58\", \"%Y-%m-%d %H:%M:%S\")\n",
    "print (\"now =       \", dateEncoder.encode(now))\n",
    "\n",
    "nextMonth = datetime.datetime.strptime(\"2014-06-02 13:08:58\", \"%Y-%m-%d %H:%M:%S\")\n",
    "print (\"next month =\", dateEncoder.encode(nextMonth))\n",
    "\n",
    "xmas = datetime.datetime.strptime(\"2014-12-25 13:08:58\", \"%Y-%m-%d %H:%M:%S\")\n",
    "print (\"xmas =      \", dateEncoder.encode(xmas))"
   ]
  },
  {
   "cell_type": "code",
   "execution_count": 91,
   "metadata": {},
   "outputs": [
    {
     "name": "stdout",
     "output_type": "stream",
     "text": [
      "now =        SDR( 63 ) 20, 21, 22, 23, 24, 35, 36, 52, 53, 54, 55\n",
      "next month = SDR( 63 ) 0, 1, 2, 3, 4, 35, 36, 52, 53, 54, 55\n",
      "xmas =       SDR( 63 ) 15, 16, 17, 18, 19, 35, 36, 52, 53, 54, 55\n"
     ]
    }
   ],
   "source": [
    "dateEncoder = DateEncoder(dayOfWeek  = 5, weekend=2, timeOfDay=4) \n",
    "\n",
    "now = datetime.datetime.strptime(\"2014-05-02 13:08:58\", \"%Y-%m-%d %H:%M:%S\")\n",
    "print (\"now =       \", dateEncoder.encode(now))\n",
    "\n",
    "nextMonth = datetime.datetime.strptime(\"2014-06-02 13:08:58\", \"%Y-%m-%d %H:%M:%S\")\n",
    "print (\"next month =\", dateEncoder.encode(nextMonth))\n",
    "\n",
    "xmas = datetime.datetime.strptime(\"2014-12-25 13:08:58\", \"%Y-%m-%d %H:%M:%S\")\n",
    "print (\"xmas =      \", dateEncoder.encode(xmas))"
   ]
  },
  {
   "cell_type": "code",
   "execution_count": 92,
   "metadata": {},
   "outputs": [
    {
     "name": "stdout",
     "output_type": "stream",
     "text": [
      "now =        [0 0 0 0 0 0 0 0 0 0 0 0 0 0 0 0 0 0 0 0 1 1 1 1 1 0 0 0 0 0 0 0 0 0 0 1 1\n",
      " 0 0 0 0 0 0 0 0 0 0 0 0 0 0 0 1 1 1 1 0 0 0 0 0 0 0]\n",
      "next month = [1 1 1 1 1 0 0 0 0 0 0 0 0 0 0 0 0 0 0 0 0 0 0 0 0 0 0 0 0 0 0 0 0 0 0 1 1\n",
      " 0 0 0 0 0 0 0 0 0 0 0 0 0 0 0 1 1 1 1 0 0 0 0 0 0 0]\n",
      "xmas =       [0 0 0 0 0 0 0 0 0 0 0 0 0 0 0 1 1 1 1 1 0 0 0 0 0 0 0 0 0 0 0 0 0 0 0 1 1\n",
      " 0 0 0 0 0 0 0 0 0 0 0 0 0 0 0 1 1 1 1 0 0 0 0 0 0 0]\n"
     ]
    }
   ],
   "source": [
    "print (\"now =       \", dateEncoder.encode(now).dense)\n",
    "print (\"next month =\", dateEncoder.encode(nextMonth).dense)\n",
    "print (\"xmas =      \", dateEncoder.encode(xmas).dense)"
   ]
  },
  {
   "cell_type": "markdown",
   "metadata": {},
   "source": [
    "### CategoryEncoders（カテゴリエンコーダー）\n",
    "\n",
    "(文字列で記述された）離散的なカテゴリのリストをエンコードします。\n",
    "\n",
    "ゼロの値は \"unknown category \"のために予約されています。\n",
    "\n",
    "内部的には半径1のScalarEncoderを使用していますが、整数のみをエンコードしているため、混合出力は得られません。\n",
    "\n",
    "SDRCategoryEncoder は、別の方法でカテゴリをエンコードします。"
   ]
  },
  {
   "cell_type": "code",
   "execution_count": 173,
   "metadata": {},
   "outputs": [],
   "source": [
    "from htm.bindings.encoders import ScalarEncoder, ScalarEncoderParameters\n",
    "from htm.bindings.sdr import SDR, Metrics"
   ]
  },
  {
   "cell_type": "markdown",
   "metadata": {},
   "source": [
    "**パラメータ**\n",
    "- ```category``` – 離散的な文字列カテゴリのリスト"
   ]
  },
  {
   "cell_type": "code",
   "execution_count": 174,
   "metadata": {},
   "outputs": [
    {
     "ename": "RuntimeError",
     "evalue": "Exception: ScalarEncoder.cpp(53) message: CHECK FAILED: \"num_size_args == 1u\" Too many arguments, choose only one of: 'size', 'radius', 'resolution', 'category'.",
     "output_type": "error",
     "traceback": [
      "\u001b[0;31m---------------------------------------------------------------------------\u001b[0m",
      "\u001b[0;31mRuntimeError\u001b[0m                              Traceback (most recent call last)",
      "\u001b[0;32m<ipython-input-174-0d7b6be9dc66>\u001b[0m in \u001b[0;36m<module>\u001b[0;34m\u001b[0m\n\u001b[1;32m      8\u001b[0m \u001b[0mscalarEncoderParams\u001b[0m\u001b[0;34m.\u001b[0m\u001b[0mcategory\u001b[0m \u001b[0;34m=\u001b[0m \u001b[0;32mTrue\u001b[0m\u001b[0;34m\u001b[0m\u001b[0;34m\u001b[0m\u001b[0m\n\u001b[1;32m      9\u001b[0m \u001b[0;34m\u001b[0m\u001b[0m\n\u001b[0;32m---> 10\u001b[0;31m \u001b[0menc\u001b[0m \u001b[0;34m=\u001b[0m \u001b[0mScalarEncoder\u001b[0m\u001b[0;34m(\u001b[0m\u001b[0mscalarEncoderParams\u001b[0m\u001b[0;34m)\u001b[0m\u001b[0;34m\u001b[0m\u001b[0;34m\u001b[0m\u001b[0m\n\u001b[0m\u001b[1;32m     11\u001b[0m \u001b[0;34m\u001b[0m\u001b[0m\n\u001b[1;32m     12\u001b[0m \u001b[0mcat\u001b[0m \u001b[0;34m=\u001b[0m \u001b[0menc\u001b[0m\u001b[0;34m.\u001b[0m\u001b[0mencode\u001b[0m\u001b[0;34m(\u001b[0m\u001b[0mcategories\u001b[0m\u001b[0;34m.\u001b[0m\u001b[0mindex\u001b[0m\u001b[0;34m(\u001b[0m\u001b[0;34m\"cat\"\u001b[0m\u001b[0;34m)\u001b[0m\u001b[0;34m+\u001b[0m\u001b[0;36m1\u001b[0m\u001b[0;34m)\u001b[0m\u001b[0;34m\u001b[0m\u001b[0;34m\u001b[0m\u001b[0m\n",
      "\u001b[0;31mRuntimeError\u001b[0m: Exception: ScalarEncoder.cpp(53) message: CHECK FAILED: \"num_size_args == 1u\" Too many arguments, choose only one of: 'size', 'radius', 'resolution', 'category'."
     ]
    }
   ],
   "source": [
    "categories = (\"unknown\",\"cat\", \"dog\", \"monkey\", \"slow loris\")\n",
    "\n",
    "scalarEncoderParams = ScalarEncoderParameters()\n",
    "scalarEncoderParams.minimum = 1\n",
    "scalarEncoderParams.maximum = 5\n",
    "scalarEncoderParams.activeBits = 3\n",
    "scalarEncoderParams.category = True\n",
    "\n",
    "enc = ScalarEncoder(scalarEncoderParams)\n",
    "\n",
    "cat = enc.encode(categories.index(\"cat\")+1)\n",
    "dog = enc.encode(categories.index(\"dog\")+1)\n",
    "monkey = enc.encode(categories.index(\"monkey\")+1)\n",
    "loris = enc.encode(categories.index(\"slow loris\")+1)\n",
    "\n",
    "print (\"cat =       \", cat)\n",
    "print (\"dog =       \", dog)\n",
    "print (\"monkey =    \", monkey)\n",
    "print (\"slow loris =\", loris)"
   ]
  },
  {
   "cell_type": "code",
   "execution_count": 166,
   "metadata": {},
   "outputs": [
    {
     "name": "stdout",
     "output_type": "stream",
     "text": [
      "cat =        [0 0 0 1 1 1 0 0 0 0 0 0 0 0 0]\n",
      "dog =        [0 0 0 0 0 0 1 1 1 0 0 0 0 0 0]\n",
      "monkey =     [0 0 0 0 0 0 0 0 0 1 1 1 0 0 0]\n",
      "slow loris = [0 0 0 0 0 0 0 0 0 0 0 0 1 1 1]\n"
     ]
    }
   ],
   "source": [
    "print (\"cat =       \", cat.dense)\n",
    "print (\"dog =       \", dog.dense)\n",
    "print (\"monkey =    \", monkey.dense)\n",
    "print (\"slow loris =\", loris.dense)"
   ]
  },
  {
   "cell_type": "code",
   "execution_count": 171,
   "metadata": {},
   "outputs": [
    {
     "data": {
      "image/png": "[encoded data removed]",
      "text/plain": [
       "<Figure size 432x288 with 1 Axes>"
      ]
     },
     "metadata": {
      "needs_background": "light"
     },
     "output_type": "display_data"
    }
   ],
   "source": [
    "n_samples = int(enc.parameters.maximum - enc.parameters.minimum + 1)\n",
    "\n",
    "sdrs = []\n",
    "for i in np.linspace(enc.parameters.minimum, enc.parameters.maximum, n_samples):\n",
    "  sdrs.append( enc.encode( i ) )\n",
    "\n",
    "import matplotlib.pyplot as plt\n",
    "%matplotlib inline\n",
    "\n",
    "rf = np.zeros([ enc.size, len(sdrs) ], dtype=np.uint8)\n",
    "for i in range(len(sdrs)):\n",
    "  rf[ :, i ] = sdrs[i].dense\n",
    "plt.imshow(rf, interpolation='nearest')\n",
    "plt.title( \"ScalarEncoder Receptive Fields\")\n",
    "plt.ylabel(\"Cell Number\")\n",
    "plt.xlabel(\"Input Value\")\n",
    "n_ticks = 11\n",
    "plt.xticks( np.linspace(0, len(sdrs)-1, n_ticks),\n",
    "          np.linspace(enc.parameters.minimum, enc.parameters.maximum, n_ticks))\n",
    "plt.show()"
   ]
  },
  {
   "cell_type": "code",
   "execution_count": 11,
   "metadata": {},
   "outputs": [
    {
     "name": "stdout",
     "output_type": "stream",
     "text": [
      "SDR( 15 ) 6, 7, 8\n"
     ]
    }
   ],
   "source": [
    "print (enc.encode(1+2))"
   ]
  },
  {
   "cell_type": "code",
   "execution_count": 12,
   "metadata": {},
   "outputs": [
    {
     "name": "stdout",
     "output_type": "stream",
     "text": [
      "SDR( 15 ) 0, 1, 2\n"
     ]
    }
   ],
   "source": [
    "print (enc.encode(categories.index(\"unknown\")+1))"
   ]
  },
  {
   "cell_type": "code",
   "execution_count": 13,
   "metadata": {},
   "outputs": [
    {
     "ename": "AttributeError",
     "evalue": "'htm.bindings.encoders.ScalarEncoder' object has no attribute 'decode'",
     "output_type": "error",
     "traceback": [
      "\u001b[0;31m---------------------------------------------------------------------------\u001b[0m",
      "\u001b[0;31mAttributeError\u001b[0m                            Traceback (most recent call last)",
      "\u001b[0;32m<ipython-input-13-8ffe166ceaa3>\u001b[0m in \u001b[0;36m<module>\u001b[0;34m\u001b[0m\n\u001b[0;32m----> 1\u001b[0;31m \u001b[0mprint\u001b[0m \u001b[0;34m(\u001b[0m\u001b[0menc\u001b[0m\u001b[0;34m.\u001b[0m\u001b[0mdecode\u001b[0m\u001b[0;34m(\u001b[0m\u001b[0mcategories\u001b[0m\u001b[0;34m.\u001b[0m\u001b[0mindex\u001b[0m\u001b[0;34m(\u001b[0m\u001b[0;34m\"cat\"\u001b[0m\u001b[0;34m)\u001b[0m\u001b[0;34m+\u001b[0m\u001b[0;36m1\u001b[0m\u001b[0;34m)\u001b[0m\u001b[0;34m)\u001b[0m\u001b[0;34m\u001b[0m\u001b[0;34m\u001b[0m\u001b[0m\n\u001b[0m",
      "\u001b[0;31mAttributeError\u001b[0m: 'htm.bindings.encoders.ScalarEncoder' object has no attribute 'decode'"
     ]
    }
   ],
   "source": [
    "print (enc.decode(categories.index(\"cat\")+1))"
   ]
  },
  {
   "cell_type": "code",
   "execution_count": 14,
   "metadata": {},
   "outputs": [
    {
     "ename": "NameError",
     "evalue": "name 'numpy' is not defined",
     "output_type": "error",
     "traceback": [
      "\u001b[0;31m---------------------------------------------------------------------------\u001b[0m",
      "\u001b[0;31mNameError\u001b[0m                                 Traceback (most recent call last)",
      "\u001b[0;32m<ipython-input-14-6e31e4ecb898>\u001b[0m in \u001b[0;36m<module>\u001b[0;34m\u001b[0m\n\u001b[0;32m----> 1\u001b[0;31m \u001b[0mcatdog\u001b[0m \u001b[0;34m=\u001b[0m \u001b[0mnumpy\u001b[0m\u001b[0;34m.\u001b[0m\u001b[0marray\u001b[0m\u001b[0;34m(\u001b[0m\u001b[0;34m[\u001b[0m\u001b[0;36m0\u001b[0m\u001b[0;34m,\u001b[0m \u001b[0;36m0\u001b[0m\u001b[0;34m,\u001b[0m \u001b[0;36m0\u001b[0m\u001b[0;34m,\u001b[0m \u001b[0;36m1\u001b[0m\u001b[0;34m,\u001b[0m \u001b[0;36m0\u001b[0m\u001b[0;34m,\u001b[0m \u001b[0;36m1\u001b[0m\u001b[0;34m,\u001b[0m \u001b[0;36m0\u001b[0m\u001b[0;34m,\u001b[0m \u001b[0;36m1\u001b[0m\u001b[0;34m,\u001b[0m \u001b[0;36m1\u001b[0m\u001b[0;34m,\u001b[0m \u001b[0;36m0\u001b[0m\u001b[0;34m,\u001b[0m \u001b[0;36m0\u001b[0m\u001b[0;34m,\u001b[0m \u001b[0;36m0\u001b[0m\u001b[0;34m,\u001b[0m \u001b[0;36m0\u001b[0m\u001b[0;34m,\u001b[0m \u001b[0;36m0\u001b[0m\u001b[0;34m,\u001b[0m \u001b[0;36m0\u001b[0m\u001b[0;34m]\u001b[0m\u001b[0;34m)\u001b[0m\u001b[0;34m\u001b[0m\u001b[0;34m\u001b[0m\u001b[0m\n\u001b[0m\u001b[1;32m      2\u001b[0m \u001b[0mprint\u001b[0m \u001b[0;34m(\u001b[0m\u001b[0menc\u001b[0m\u001b[0;34m.\u001b[0m\u001b[0mdecode\u001b[0m\u001b[0;34m(\u001b[0m\u001b[0mcatdog\u001b[0m\u001b[0;34m)\u001b[0m\u001b[0;34m)\u001b[0m\u001b[0;34m\u001b[0m\u001b[0;34m\u001b[0m\u001b[0m\n",
      "\u001b[0;31mNameError\u001b[0m: name 'numpy' is not defined"
     ]
    }
   ],
   "source": [
    "catdog = numpy.array([0, 0, 0, 1, 0, 1, 0, 1, 1, 0, 0, 0, 0, 0, 0])\n",
    "print (enc.decode(catdog))"
   ]
  },
  {
   "cell_type": "code",
   "execution_count": null,
   "metadata": {},
   "outputs": [],
   "source": []
  }
 ],
 "metadata": {
  "kernelspec": {
   "display_name": "Python 3.7.1 64-bit",
   "language": "python",
   "name": "python37164bitbe73d8ffdc24401e8740ed3389c4820c"
  },
  "language_info": {
   "codemirror_mode": {
    "name": "ipython",
    "version": 3
   },
   "file_extension": ".py",
   "mimetype": "text/x-python",
   "name": "python",
   "nbconvert_exporter": "python",
   "pygments_lexer": "ipython3",
   "version": "3.7.1"
  }
 },
 "nbformat": 4,
 "nbformat_minor": 2
}
