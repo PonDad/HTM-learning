{
 "cells": [
  {
   "cell_type": "markdown",
   "metadata": {},
   "source": [
    "# SDR"
   ]
  },
  {
   "cell_type": "markdown",
   "metadata": {},
   "source": [
    "## 入力シーケンスの作成\n",
    "\n",
    "最初のステップは、入力シーケンスを作成することです。以下に示すように、私はNumPyを使用して0から9までの数字のシーケンスを作成しています。"
   ]
  },
  {
   "cell_type": "code",
   "execution_count": 1,
   "metadata": {},
   "outputs": [
    {
     "name": "stdout",
     "output_type": "stream",
     "text": [
      "[0 1 2 3 4 5 6 7 8 9]\n"
     ]
    }
   ],
   "source": [
    "import numpy as np\n",
    "\n",
    "# np.arange 等差数列を配列ndarrayとして生成する\n",
    "cycleArray = np.arange(0, 10, 1)\n",
    "print(cycleArray)"
   ]
  },
  {
   "cell_type": "markdown",
   "metadata": {},
   "source": [
    "## ビット表現\n",
    "\n",
    "ここまでで、各種類の入力をhtm.coreが理解できるビット表現にエンコードする必要があることをご存じでしょう。したがって、シーケンス内の個々の数値をゼロ（非アクティブビット）と1（アクティブビット）の配列に変換する必要があります。\n",
    "\n",
    "もう1つ注意する点は、**一時記憶は期待どおり動作するために、実際にはリスト8のアクティブビットが必要である**ことです。\n",
    "\n",
    "10個の数値（0〜9）があり、すべての数値を表すために少なくとも8つのアクティブビットが必要であることを念頭に置いて、配列サイズを80に設定します。次に、これらの数値を反復処理して、以下に示すようにアクティブビットを設定できます。"
   ]
  },
  {
   "cell_type": "code",
   "execution_count": 11,
   "metadata": {},
   "outputs": [
    {
     "name": "stdout",
     "output_type": "stream",
     "text": [
      " 0 | [1. 1. 1. 1. 1. 1. 1. 1. 0. 0. 0. 0. 0. 0. 0. 0. 0. 0. 0. 0. 0. 0. 0. 0.\n",
      " 0. 0. 0. 0. 0. 0. 0. 0. 0. 0. 0. 0. 0. 0. 0. 0. 0. 0. 0. 0. 0. 0. 0. 0.\n",
      " 0. 0. 0. 0. 0. 0. 0. 0. 0. 0. 0. 0. 0. 0. 0. 0. 0. 0. 0. 0. 0. 0. 0. 0.\n",
      " 0. 0. 0. 0. 0. 0. 0. 0.]\n",
      " 1 | [0. 0. 0. 0. 0. 0. 0. 0. 1. 1. 1. 1. 1. 1. 1. 1. 0. 0. 0. 0. 0. 0. 0. 0.\n",
      " 0. 0. 0. 0. 0. 0. 0. 0. 0. 0. 0. 0. 0. 0. 0. 0. 0. 0. 0. 0. 0. 0. 0. 0.\n",
      " 0. 0. 0. 0. 0. 0. 0. 0. 0. 0. 0. 0. 0. 0. 0. 0. 0. 0. 0. 0. 0. 0. 0. 0.\n",
      " 0. 0. 0. 0. 0. 0. 0. 0.]\n",
      " 2 | [0. 0. 0. 0. 0. 0. 0. 0. 0. 0. 0. 0. 0. 0. 0. 0. 1. 1. 1. 1. 1. 1. 1. 1.\n",
      " 0. 0. 0. 0. 0. 0. 0. 0. 0. 0. 0. 0. 0. 0. 0. 0. 0. 0. 0. 0. 0. 0. 0. 0.\n",
      " 0. 0. 0. 0. 0. 0. 0. 0. 0. 0. 0. 0. 0. 0. 0. 0. 0. 0. 0. 0. 0. 0. 0. 0.\n",
      " 0. 0. 0. 0. 0. 0. 0. 0.]\n",
      " 3 | [0. 0. 0. 0. 0. 0. 0. 0. 0. 0. 0. 0. 0. 0. 0. 0. 0. 0. 0. 0. 0. 0. 0. 0.\n",
      " 1. 1. 1. 1. 1. 1. 1. 1. 0. 0. 0. 0. 0. 0. 0. 0. 0. 0. 0. 0. 0. 0. 0. 0.\n",
      " 0. 0. 0. 0. 0. 0. 0. 0. 0. 0. 0. 0. 0. 0. 0. 0. 0. 0. 0. 0. 0. 0. 0. 0.\n",
      " 0. 0. 0. 0. 0. 0. 0. 0.]\n",
      " 4 | [0. 0. 0. 0. 0. 0. 0. 0. 0. 0. 0. 0. 0. 0. 0. 0. 0. 0. 0. 0. 0. 0. 0. 0.\n",
      " 0. 0. 0. 0. 0. 0. 0. 0. 1. 1. 1. 1. 1. 1. 1. 1. 0. 0. 0. 0. 0. 0. 0. 0.\n",
      " 0. 0. 0. 0. 0. 0. 0. 0. 0. 0. 0. 0. 0. 0. 0. 0. 0. 0. 0. 0. 0. 0. 0. 0.\n",
      " 0. 0. 0. 0. 0. 0. 0. 0.]\n",
      " 5 | [0. 0. 0. 0. 0. 0. 0. 0. 0. 0. 0. 0. 0. 0. 0. 0. 0. 0. 0. 0. 0. 0. 0. 0.\n",
      " 0. 0. 0. 0. 0. 0. 0. 0. 0. 0. 0. 0. 0. 0. 0. 0. 1. 1. 1. 1. 1. 1. 1. 1.\n",
      " 0. 0. 0. 0. 0. 0. 0. 0. 0. 0. 0. 0. 0. 0. 0. 0. 0. 0. 0. 0. 0. 0. 0. 0.\n",
      " 0. 0. 0. 0. 0. 0. 0. 0.]\n",
      " 6 | [0. 0. 0. 0. 0. 0. 0. 0. 0. 0. 0. 0. 0. 0. 0. 0. 0. 0. 0. 0. 0. 0. 0. 0.\n",
      " 0. 0. 0. 0. 0. 0. 0. 0. 0. 0. 0. 0. 0. 0. 0. 0. 0. 0. 0. 0. 0. 0. 0. 0.\n",
      " 1. 1. 1. 1. 1. 1. 1. 1. 0. 0. 0. 0. 0. 0. 0. 0. 0. 0. 0. 0. 0. 0. 0. 0.\n",
      " 0. 0. 0. 0. 0. 0. 0. 0.]\n",
      " 7 | [0. 0. 0. 0. 0. 0. 0. 0. 0. 0. 0. 0. 0. 0. 0. 0. 0. 0. 0. 0. 0. 0. 0. 0.\n",
      " 0. 0. 0. 0. 0. 0. 0. 0. 0. 0. 0. 0. 0. 0. 0. 0. 0. 0. 0. 0. 0. 0. 0. 0.\n",
      " 0. 0. 0. 0. 0. 0. 0. 0. 1. 1. 1. 1. 1. 1. 1. 1. 0. 0. 0. 0. 0. 0. 0. 0.\n",
      " 0. 0. 0. 0. 0. 0. 0. 0.]\n",
      " 8 | [0. 0. 0. 0. 0. 0. 0. 0. 0. 0. 0. 0. 0. 0. 0. 0. 0. 0. 0. 0. 0. 0. 0. 0.\n",
      " 0. 0. 0. 0. 0. 0. 0. 0. 0. 0. 0. 0. 0. 0. 0. 0. 0. 0. 0. 0. 0. 0. 0. 0.\n",
      " 0. 0. 0. 0. 0. 0. 0. 0. 0. 0. 0. 0. 0. 0. 0. 0. 1. 1. 1. 1. 1. 1. 1. 1.\n",
      " 0. 0. 0. 0. 0. 0. 0. 0.]\n",
      " 9 | [0. 0. 0. 0. 0. 0. 0. 0. 0. 0. 0. 0. 0. 0. 0. 0. 0. 0. 0. 0. 0. 0. 0. 0.\n",
      " 0. 0. 0. 0. 0. 0. 0. 0. 0. 0. 0. 0. 0. 0. 0. 0. 0. 0. 0. 0. 0. 0. 0. 0.\n",
      " 0. 0. 0. 0. 0. 0. 0. 0. 0. 0. 0. 0. 0. 0. 0. 0. 0. 0. 0. 0. 0. 0. 0. 0.\n",
      " 1. 1. 1. 1. 1. 1. 1. 1.]\n"
     ]
    }
   ],
   "source": [
    "import numpy as np\n",
    "\n",
    "arraySize = 80\n",
    "\n",
    "# np.arange 等差数列を配列ndarrayとして生成する\n",
    "cycleArray = np.arange(0, 10, 1)\n",
    "\n",
    "for sensorValue in cycleArray:\n",
    "    # np.zeros 配列の全要素を0で初期化する\n",
    "    sensorValueBits = np.zeros(arraySize)\n",
    "    sensorValueBits[sensorValue * 8 : sensorValue * 8 + 8] = 1\n",
    "    # format(value[, format_spec]) value を format_spec で制御される \n",
    "    # \"書式化された\" 表現に変換します\n",
    "    print(format(sensorValue, '>2') + ' |' , sensorValueBits)"
   ]
  },
  {
   "cell_type": "markdown",
   "metadata": {},
   "source": [
    "## 美化\n",
    "\n",
    "結果は少し醜く見えます。それでは、`formatArray`という名前のpython関数を作成して、ビット配列をより読みやすいものに変換して、それを修正してみましょう。"
   ]
  },
  {
   "cell_type": "code",
   "execution_count": 76,
   "metadata": {},
   "outputs": [
    {
     "name": "stdout",
     "output_type": "stream",
     "text": [
      "V: 0 | 11111111 00000000 00000000 00000000 00000000 00000000 00000000 00000000 00000000 00000000\n",
      "V: 1 | 00000000 11111111 00000000 00000000 00000000 00000000 00000000 00000000 00000000 00000000\n",
      "V: 2 | 00000000 00000000 11111111 00000000 00000000 00000000 00000000 00000000 00000000 00000000\n",
      "V: 3 | 00000000 00000000 00000000 11111111 00000000 00000000 00000000 00000000 00000000 00000000\n",
      "V: 4 | 00000000 00000000 00000000 00000000 11111111 00000000 00000000 00000000 00000000 00000000\n",
      "V: 5 | 00000000 00000000 00000000 00000000 00000000 11111111 00000000 00000000 00000000 00000000\n",
      "V: 6 | 00000000 00000000 00000000 00000000 00000000 00000000 11111111 00000000 00000000 00000000\n",
      "V: 7 | 00000000 00000000 00000000 00000000 00000000 00000000 00000000 11111111 00000000 00000000\n",
      "V: 8 | 00000000 00000000 00000000 00000000 00000000 00000000 00000000 00000000 11111111 00000000\n",
      "V: 9 | 00000000 00000000 00000000 00000000 00000000 00000000 00000000 00000000 00000000 11111111\n"
     ]
    }
   ],
   "source": [
    "import numpy as np\n",
    "\n",
    "def formatArray(array):\n",
    "  result = ''\n",
    "  for i in range(array.size):\n",
    "    if i > 0 and i % 8 == 0:\n",
    "      result += ' '\n",
    "    # '.0f'で小数点以下の表示を0に\n",
    "    result += format(array[i],'.0f')\n",
    "  return result\n",
    "\n",
    "arraySize = 80\n",
    "cycleArray = np.arange(0, 10, 1)\n",
    "\n",
    "for sensorValue in cycleArray:\n",
    "    # np.zeros 配列の全要素を0で初期化する\n",
    "    sensorValueBits = np.zeros(arraySize)\n",
    "    sensorValueBits[sensorValue * 8 : sensorValue * 8 + 8] = 1\n",
    "\n",
    "    # format(value[, format_spec]) value を format_spec で制御される \n",
    "    # \"書式化された\" 表現に変換します\n",
    "    print('V:' + format(sensorValue, '>2')  + ' |', formatArray(sensorValueBits))"
   ]
  },
  {
   "cell_type": "markdown",
   "metadata": {},
   "source": [
    "## スパース分散表現への配列\n",
    "\n",
    "バイト配列をSDRへ変換する前に、関連するドキュメントをざっと見ておくと便利です。次のコマンドを使用して、インタラクティブなPythonシェルまたはJupyterで表示します。"
   ]
  },
  {
   "cell_type": "code",
   "execution_count": 73,
   "metadata": {},
   "outputs": [
    {
     "name": "stdout",
     "output_type": "stream",
     "text": [
      "Help on class SDR in module htm.bindings.sdr:\n",
      "\n",
      "class SDR(pybind11_builtins.pybind11_object)\n",
      " |  Sparse Distributed Representation\n",
      " |  \n",
      " |  This class manages the specification and momentary value of a Sparse Distributed\n",
      " |  Representation (SDR).  An SDR is a group of boolean values which represent the\n",
      " |  state of a group of neurons or their associated processes.\n",
      " |  \n",
      " |  SDR's have three commonly used data formats which are:\n",
      " |  *   dense\n",
      " |  *   sparse\n",
      " |  *   coordinates\n",
      " |  The SDR class has three magic properties, one for each of these data formats.\n",
      " |  These properties are the primary way of accessing the SDR's data.  When these\n",
      " |  properties are read from, the data is automatically converted to the requested\n",
      " |  format and is cached so getting a value in one format many times incurs no extra\n",
      " |  performance cost.  Assigning to the SDR via any one of these properties clears\n",
      " |  the cached values and causes them to be recomputed as needed.\n",
      " |  \n",
      " |  Example usage:\n",
      " |      # Make an SDR with 9 values, arranged in a (3 x 3) grid.\n",
      " |      X = SDR(dimensions = (3, 3))\n",
      " |  \n",
      " |      # These three statements are equivalent.\n",
      " |      X.dense  = [[0, 1, 0],\n",
      " |                  [0, 1, 0],\n",
      " |                  [0, 0, 1]]\n",
      " |      X.sparse = [ 1, 4, 8 ]\n",
      " |      X.coordinates = [[0, 1, 2], [1, 1, 2]]\n",
      " |  \n",
      " |      # Access data in any format, SDR will automatically convert data formats,\n",
      " |      # even if it was not the format used by the most recent assignment to the\n",
      " |      # SDR.\n",
      " |      X.dense  -> [[ 0, 1, 0 ],\n",
      " |                   [ 0, 1, 0 ],\n",
      " |                   [ 0, 0, 1 ]]\n",
      " |      x.sparse -> [ 1, 4, 8 ]\n",
      " |      X.coordinates -> [[ 0, 1, 2 ], [1, 1, 2 ]]\n",
      " |  \n",
      " |      # Data format conversions are cached, and when an SDR value changes the\n",
      " |      # cache is cleared.\n",
      " |      X.sparse = [1, 2, 3] # Assign new data to the SDR, clearing the cache.\n",
      " |      X.dense     # This line will convert formats.\n",
      " |      X.dense     # This line will resuse the result of the previous line\n",
      " |  \n",
      " |  Assigning a value to the SDR requires copying the data from Python into C++. To\n",
      " |  avoid this copy operation: modify sdr.dense inplace, and assign it to itself.\n",
      " |  This class will detect that it's being given it's own data and will omit the\n",
      " |  copy operation.\n",
      " |  \n",
      " |  Example Usage of In-Place Assignment:\n",
      " |      X    = SDR((1000, 1000))   # Initial value is all zeros\n",
      " |      data = X.dense\n",
      " |      data[  0,   4] = 1\n",
      " |      data[444, 444] = 1\n",
      " |      X.dense = data\n",
      " |      X.sparse -> [ 4, 444444 ]\n",
      " |  \n",
      " |  Data Validity Warning:  After assigning a new value to the SDR, all existing\n",
      " |  numpy arrays of data are invalid.  In order to get the latest copy of the data,\n",
      " |  re-access the data from the SDR.  Examples:\n",
      " |      A = SDR( dimensions )\n",
      " |      out_of_date = A.dense\n",
      " |      A.sparse = []\n",
      " |      # The variable \"out_of_date\" is now liable to be overwritten.\n",
      " |      A.dense = out_of_date   # This does not work, since the data is invalid.\n",
      " |  \n",
      " |  Method resolution order:\n",
      " |      SDR\n",
      " |      pybind11_builtins.pybind11_object\n",
      " |      builtins.object\n",
      " |  \n",
      " |  Methods defined here:\n",
      " |  \n",
      " |  __eq__(...)\n",
      " |      __eq__(self: htm.bindings.sdr.SDR, arg0: htm.bindings.sdr.SDR) -> bool\n",
      " |  \n",
      " |  __getstate__(...)\n",
      " |      __getstate__(self: htm.bindings.sdr.SDR) -> bytes\n",
      " |  \n",
      " |  __init__(...)\n",
      " |      __init__(*args, **kwargs)\n",
      " |      Overloaded function.\n",
      " |      \n",
      " |      1. __init__(self: htm.bindings.sdr.SDR, dimensions: List[int]) -> None\n",
      " |      \n",
      " |      Create an SDR object.  The initial value is all zeros.\n",
      " |      \n",
      " |      Argument dimensions is a list of dimension sizes, defining the shape of the SDR.\n",
      " |      The product of the dimensions must be greater than zero.\n",
      " |      \n",
      " |      2. __init__(self: htm.bindings.sdr.SDR, dimensions: int) -> None\n",
      " |      \n",
      " |      Create an SDR object.  The initial value is all zeros.\n",
      " |      \n",
      " |      Argument dimensions is a single integer dimension size, defining a 1-dimensional\n",
      " |      SDR.  Must be greater than zero.\n",
      " |      \n",
      " |      3. __init__(self: htm.bindings.sdr.SDR, sdr: htm.bindings.sdr.SDR) -> None\n",
      " |      \n",
      " |      Initialize this SDR as a deep copy of the given SDR.  This SDR and the given\n",
      " |      SDR will have no shared data and they can be modified without affecting each\n",
      " |      other.\n",
      " |  \n",
      " |  __ne__(...)\n",
      " |      __ne__(self: htm.bindings.sdr.SDR, arg0: htm.bindings.sdr.SDR) -> bool\n",
      " |  \n",
      " |  __setstate__(...)\n",
      " |      __setstate__(self: htm.bindings.sdr.SDR, arg0: bytes) -> None\n",
      " |  \n",
      " |  __str__(...)\n",
      " |      __str__(self: htm.bindings.sdr.SDR) -> object\n",
      " |  \n",
      " |  addNoise(...)\n",
      " |      addNoise(self: htm.bindings.sdr.SDR, fractionNoise: float, seed: int = 0) -> htm.bindings.sdr.SDR\n",
      " |      \n",
      " |      Modify the SDR by moving a fraction of the active bits to different\n",
      " |      locations.  This method does not change the sparsity of the SDR, it moves\n",
      " |      the locations of the true values.  The resulting SDR has a controlled\n",
      " |      amount of overlap with the original.\n",
      " |      \n",
      " |      Argument fractionNoise is the fraction of active bits to swap out.  The original\n",
      " |      and resulting SDRs have the following relationship:\n",
      " |          originalSDR.getOverlap( newSDR ) / sparsity == 1 - fractionNoise\n",
      " |      \n",
      " |      Optional argument seed is used for the random number generator.  Seed 0 is\n",
      " |      special, it is replaced with the system time.  The default seed is 0.\n",
      " |  \n",
      " |  concatenate(...)\n",
      " |      concatenate(*args, **kwargs)\n",
      " |      Overloaded function.\n",
      " |      \n",
      " |      1. concatenate(self: htm.bindings.sdr.SDR, input1: htm.bindings.sdr.SDR, input2: htm.bindings.sdr.SDR, axis: int = 0) -> htm.bindings.sdr.SDR\n",
      " |      \n",
      " |      Concatenates SDRs and stores the result in this SDR.\n",
      " |      \n",
      " |      This method has two overloads:\n",
      " |          1) Accepts two SDRs, for convenience.\n",
      " |          2) Accepts a list of SDRs, must contain at least two SDRs, can\n",
      " |             contain as many SDRs as needed.\n",
      " |      \n",
      " |      Argument axis: This can concatenate along any axis, as long as the\n",
      " |      result has the same dimensions as this SDR.  The default axis is 0.\n",
      " |      \n",
      " |      The output is stored in this SDR.  This method modifies this SDR\n",
      " |      and discards its current value!\n",
      " |      \n",
      " |      Example Usage:\n",
      " |          A = SDR( 10 )\n",
      " |          B = SDR( 10 )\n",
      " |          C = SDR( 20 )\n",
      " |          A.sparse = [0, 1, 2]\n",
      " |          B.sparse = [0, 1, 2]\n",
      " |          C.concatenate( A, B )\n",
      " |          C.sparse == [0, 1, 2, 10, 11, 12]\n",
      " |      \n",
      " |      \n",
      " |      2. concatenate(self: htm.bindings.sdr.SDR, inputs: List[htm.bindings.sdr.SDR], axis: int = 0) -> htm.bindings.sdr.SDR\n",
      " |  \n",
      " |  flatten(...)\n",
      " |      flatten(self: htm.bindings.sdr.SDR) -> htm.bindings.sdr.SDR\n",
      " |      \n",
      " |      Change the dimensions of the SDR into one big dimension.\n",
      " |  \n",
      " |  getOverlap(...)\n",
      " |      getOverlap(self: htm.bindings.sdr.SDR, arg0: htm.bindings.sdr.SDR) -> int\n",
      " |      \n",
      " |      Calculates the number of true bits which both SDRs have in common.\n",
      " |  \n",
      " |  getSparsity(...)\n",
      " |      getSparsity(self: htm.bindings.sdr.SDR) -> float\n",
      " |      \n",
      " |      Calculates the sparsity of the SDR, which is the fraction of bits which are\n",
      " |      true out of the total number of bits in the SDR.\n",
      " |      I.E.  sparsity = sdr.getSum() / sdr.size\n",
      " |  \n",
      " |  getSum(...)\n",
      " |      getSum(self: htm.bindings.sdr.SDR) -> int\n",
      " |      \n",
      " |      Calculates the number of true values in the SDR.\n",
      " |  \n",
      " |  intersection(...)\n",
      " |      intersection(*args, **kwargs)\n",
      " |      Overloaded function.\n",
      " |      \n",
      " |      1. intersection(self: htm.bindings.sdr.SDR, arg0: htm.bindings.sdr.SDR, arg1: htm.bindings.sdr.SDR) -> htm.bindings.sdr.SDR\n",
      " |      \n",
      " |      This method calculates the set intersection of the active bits in each input\n",
      " |      SDR.\n",
      " |      \n",
      " |      This method has two overloads:\n",
      " |          1) Accepts two SDRs, for convenience.\n",
      " |          2) Accepts a list of SDRs, must contain at least two SDRs, can contain as\n",
      " |             many SDRs as needed.\n",
      " |      \n",
      " |      In both cases the output is stored in this SDR.  This method modifies this SDR\n",
      " |      and discards its current value!\n",
      " |      \n",
      " |      Example Usage:\n",
      " |          A = SDR( 10 )\n",
      " |          B = SDR( 10 )\n",
      " |          X = SDR( 10 )\n",
      " |          A.sparse = [0, 1, 2, 3]\n",
      " |          B.sparse =       [2, 3, 4, 5]\n",
      " |          X.intersection( A, B )\n",
      " |          X.sparse -> [2, 3]\n",
      " |      \n",
      " |      \n",
      " |      2. intersection(self: htm.bindings.sdr.SDR, arg0: List[htm.bindings.sdr.SDR]) -> htm.bindings.sdr.SDR\n",
      " |  \n",
      " |  killCells(...)\n",
      " |      killCells(self: htm.bindings.sdr.SDR, fraction: float, seed: int = 0) -> htm.bindings.sdr.SDR\n",
      " |      \n",
      " |      Modify the SDR by setting a fraction of the bits to zero.\n",
      " |      \n",
      " |      Argument fraction must be between 0 and 1 (inclusive).  This fraction of the\n",
      " |      cells in the SDR will be set to zero, regardless of their current state.\n",
      " |      \n",
      " |      Argument seed is for a random number generator.  If not given, this uses the\n",
      " |      magic seed 0.  Use the same seed to consistently kill the same cells.\n",
      " |  \n",
      " |  randomize(...)\n",
      " |      randomize(*args, **kwargs)\n",
      " |      Overloaded function.\n",
      " |      \n",
      " |      1. randomize(self: htm.bindings.sdr.SDR, sparsity: float, seed: int = 0) -> htm.bindings.sdr.SDR\n",
      " |      \n",
      " |      Make a random SDR, overwriting the current value of the SDR.  The result has\n",
      " |      uniformly random activations.\n",
      " |      \n",
      " |      Argument sparsity is the fraction of bits to set to true.  After calling this\n",
      " |      method sdr.getSparsity() will return this sparsity, rounded to the nearest\n",
      " |      fraction of self.size.\n",
      " |      \n",
      " |      Optional argument seed is used for the random number generator.  Seed 0 is\n",
      " |      special, it is replaced with the system time  The default seed is 0.\n",
      " |      \n",
      " |      2. randomize(self: htm.bindings.sdr.SDR, sparsity: float, rng: htm.bindings.math.Random) -> htm.bindings.sdr.SDR\n",
      " |      \n",
      " |      This overload accepts Random Number Generators (RNG) intead of a random seed.\n",
      " |      RNGs must be instances of \"htm.bindings.math.Random\".\n",
      " |  \n",
      " |  reshape(...)\n",
      " |      reshape(self: htm.bindings.sdr.SDR, arg0: List[int]) -> htm.bindings.sdr.SDR\n",
      " |      \n",
      " |      Change the dimensions of the SDR.  The total size must not change.\n",
      " |  \n",
      " |  setSDR(...)\n",
      " |      setSDR(self: htm.bindings.sdr.SDR, arg0: htm.bindings.sdr.SDR) -> htm.bindings.sdr.SDR\n",
      " |      \n",
      " |      Deep Copy the given SDR to this SDR.  This overwrites the current value of this\n",
      " |      SDR.  This SDR and the given SDR will have no shared data and they can be\n",
      " |      modified without affecting each other.\n",
      " |  \n",
      " |  union(...)\n",
      " |      union(*args, **kwargs)\n",
      " |      Overloaded function.\n",
      " |      \n",
      " |      1. union(self: htm.bindings.sdr.SDR, arg0: htm.bindings.sdr.SDR, arg1: htm.bindings.sdr.SDR) -> htm.bindings.sdr.SDR\n",
      " |      \n",
      " |      This method calculates the set union of the active bits in each input SDR.\n",
      " |      \n",
      " |      The output is stored in this SDR.  This method discards the SDRs current value!\n",
      " |      \n",
      " |      Example Usage:\n",
      " |          A = SDR( 10 )\n",
      " |          B = SDR( 10 )\n",
      " |          U = SDR( 10 )\n",
      " |          A.sparse = [0, 1, 2, 3]\n",
      " |          B.sparse =       [2, 3, 4, 5]\n",
      " |          U.union( A, B )\n",
      " |          U.sparse -> [0, 1, 2, 3, 4, 5]\n",
      " |      \n",
      " |      \n",
      " |      2. union(self: htm.bindings.sdr.SDR, arg0: List[htm.bindings.sdr.SDR]) -> htm.bindings.sdr.SDR\n",
      " |  \n",
      " |  zero(...)\n",
      " |      zero(self: htm.bindings.sdr.SDR) -> htm.bindings.sdr.SDR\n",
      " |      \n",
      " |      Set all of the values in the SDR to false.  This method overwrites the SDRs\n",
      " |      current value.\n",
      " |  \n",
      " |  ----------------------------------------------------------------------\n",
      " |  Data descriptors defined here:\n",
      " |  \n",
      " |  coordinates\n",
      " |      List of numpy arrays, containing the coordinates of only the true values in\n",
      " |      the SDR.  This is a list of lists: the outter list contains an entry for each\n",
      " |      dimension in the SDR. The inner lists contain the coordinates of each true bit.\n",
      " |      The inner lists run in parallel. This format is useful because it contains the\n",
      " |      location of each true bit inside of the SDR's dimensional space.\n",
      " |      \n",
      " |      Coordinate data must be sorted and contain no duplicates.\n",
      " |  \n",
      " |  dense\n",
      " |      A numpy array of boolean values, representing all of the bits in the SDR.\n",
      " |      This format allows random-access queries of the SDRs values.\n",
      " |      \n",
      " |      After modifying this array you MUST assign the array back into the SDR, in order\n",
      " |      to notify the SDR that its dense array has changed and its cached data is out of\n",
      " |      date.  If you did't copy this data, then SDR won't copy either.\n",
      " |  \n",
      " |  dimensions\n",
      " |      A list of dimensions of the SDR.\n",
      " |  \n",
      " |  size\n",
      " |      The total number of boolean values in the SDR.\n",
      " |  \n",
      " |  sparse\n",
      " |      A numpy array containing the indices of only the true values in the SDR.\n",
      " |      These are indices into the flattened SDR. This format allows for quickly\n",
      " |      accessing all of the true bits in the SDR.\n",
      " |      \n",
      " |      Sparse data must contain no duplicates.\n",
      " |  \n",
      " |  ----------------------------------------------------------------------\n",
      " |  Static methods inherited from pybind11_builtins.pybind11_object:\n",
      " |  \n",
      " |  __new__(*args, **kwargs) from pybind11_builtins.pybind11_type\n",
      " |      Create and return a new object.  See help(type) for accurate signature.\n",
      "\n"
     ]
    }
   ],
   "source": [
    "import htm.bindings.sdr\n",
    "help(htm.bindings.sdr.SDR)"
   ]
  },
  {
   "cell_type": "markdown",
   "metadata": {},
   "source": [
    "それを読むと、次のことに気付くでしょう。\n",
    "\n",
    "SDRに値を割り当てるには、PythonからC++にデータをコピーする必要があります。このコピー操作を回避するには、`sdr.dense`をインプレースで変更し、それ自体に割り当てます。このクラスは、自身のデータが与えられていることを検出し、コピー操作を省略します。\n",
    "\n",
    "インプレース割り当ての使用例：\n",
    "\n",
    "```python\n",
    "X = SDR((1000, 1000)) # Initial value is all zeros\n",
    "data = X.dense\n",
    "data[ 0, 4] = 1\n",
    "data[444, 444] = 1\n",
    "X.dense = data\n",
    "X.sparse -> [ 4, 444444 ]\n",
    "```\n",
    "\n",
    "それは有用な情報です。\n",
    "\n",
    "したがって、最初に配列と同じサイズのSDRオブジェクト（14行）を作成し、次に、エンコードされたビットを推奨される方法（17行および20行）に割り当てます。"
   ]
  },
  {
   "cell_type": "code",
   "execution_count": 77,
   "metadata": {},
   "outputs": [
    {
     "name": "stdout",
     "output_type": "stream",
     "text": [
      "0 : 11111111 00000000 00000000 00000000 00000000 00000000 00000000 00000000 00000000 00000000\n",
      "1 : 00000000 11111111 00000000 00000000 00000000 00000000 00000000 00000000 00000000 00000000\n",
      "2 : 00000000 00000000 11111111 00000000 00000000 00000000 00000000 00000000 00000000 00000000\n",
      "3 : 00000000 00000000 00000000 11111111 00000000 00000000 00000000 00000000 00000000 00000000\n",
      "4 : 00000000 00000000 00000000 00000000 11111111 00000000 00000000 00000000 00000000 00000000\n",
      "5 : 00000000 00000000 00000000 00000000 00000000 11111111 00000000 00000000 00000000 00000000\n",
      "6 : 00000000 00000000 00000000 00000000 00000000 00000000 11111111 00000000 00000000 00000000\n",
      "7 : 00000000 00000000 00000000 00000000 00000000 00000000 00000000 11111111 00000000 00000000\n",
      "8 : 00000000 00000000 00000000 00000000 00000000 00000000 00000000 00000000 11111111 00000000\n",
      "9 : 00000000 00000000 00000000 00000000 00000000 00000000 00000000 00000000 00000000 11111111\n"
     ]
    }
   ],
   "source": [
    "import numpy as np\n",
    "from htm.bindings.sdr import SDR\n",
    "\n",
    "def formatArray(array):\n",
    "  result = ''\n",
    "  for i in range(array.size):\n",
    "    if i > 0 and i % 8 == 0:\n",
    "      result += ' '\n",
    "     # '.0f'で小数点以下の表示を0に\n",
    "    result += format(array[i],'.0f')\n",
    "  return result\n",
    "\n",
    "arraySize = 80\n",
    "cycleArray = np.arange(0, 10, 1)\n",
    "# SDRのサイズを指定\n",
    "inputSDR = SDR( arraySize )\n",
    "\n",
    "for sensorValue in cycleArray:\n",
    "    sensorValueBits = inputSDR.dense\n",
    "    # np.zeros 配列の全要素を0で初期化する\n",
    "    sensorValueBits = np.zeros(arraySize)\n",
    "    sensorValueBits[sensorValue * 8:sensorValue * 8 + 8] = 1\n",
    "    # sdr.dense SDRに値を割り当てる\n",
    "    inputSDR.dense = sensorValueBits\n",
    "\n",
    "    # format(value[, format_spec]) value を format_spec で制御される \n",
    "    # \"書式化された\" 表現に変換します\n",
    "    print(sensorValue, ':', formatArray(sensorValueBits))"
   ]
  },
  {
   "cell_type": "markdown",
   "metadata": {},
   "source": [
    "これを実行すると、実際には出力の違いに気付くことはありません。ただし、エラーが発生しない限り、SDRへの割り当ては成功しています。"
   ]
  },
  {
   "cell_type": "code",
   "execution_count": 45,
   "metadata": {},
   "outputs": [
    {
     "name": "stdout",
     "output_type": "stream",
     "text": [
      "0 : SDR( 80 ) 0, 1, 2, 3, 4, 5, 6, 7\n",
      "1 : SDR( 80 ) 8, 9, 10, 11, 12, 13, 14, 15\n",
      "2 : SDR( 80 ) 16, 17, 18, 19, 20, 21, 22, 23\n",
      "3 : SDR( 80 ) 24, 25, 26, 27, 28, 29, 30, 31\n",
      "4 : SDR( 80 ) 32, 33, 34, 35, 36, 37, 38, 39\n",
      "5 : SDR( 80 ) 40, 41, 42, 43, 44, 45, 46, 47\n",
      "6 : SDR( 80 ) 48, 49, 50, 51, 52, 53, 54, 55\n",
      "7 : SDR( 80 ) 56, 57, 58, 59, 60, 61, 62, 63\n",
      "8 : SDR( 80 ) 64, 65, 66, 67, 68, 69, 70, 71\n",
      "9 : SDR( 80 ) 72, 73, 74, 75, 76, 77, 78, 79\n"
     ]
    }
   ],
   "source": [
    "import numpy as np\n",
    "from htm.bindings.sdr import SDR\n",
    "\n",
    "def formatArray(array):\n",
    "  result = ''\n",
    "  for i in range(array.size):\n",
    "    if i > 0 and i % 8 == 0:\n",
    "      result += ' '\n",
    "     # '.0f'で小数点以下の表示を0に\n",
    "    result += format(array[i],'.0f')\n",
    "  return result\n",
    "\n",
    "arraySize = 80\n",
    "cycleArray = np.arange(0, 10, 1)\n",
    "# SDRのサイズを指定\n",
    "inputSDR = SDR( arraySize )\n",
    "\n",
    "for sensorValue in cycleArray:\n",
    "    sensorValueBits = inputSDR.dense\n",
    "    # np.zeros 配列の全要素を0で初期化する\n",
    "    sensorValueBits = np.zeros(arraySize)\n",
    "    sensorValueBits[sensorValue * 8:sensorValue * 8 + 8] = 1\n",
    "    # sdr.dense SDRに値を割り当てる\n",
    "    inputSDR.dense = sensorValueBits\n",
    "   \n",
    "    print(sensorValue, ':', inputSDR)"
   ]
  },
  {
   "cell_type": "code",
   "execution_count": 46,
   "metadata": {},
   "outputs": [
    {
     "name": "stdout",
     "output_type": "stream",
     "text": [
      "SDR( 2000 )\n",
      "    Sparsity Min/Mean/Std/Max 0.1 / 0.0999997 / 1.33063e-06 / 0.1\n",
      "\r",
      "    Activation Frequency Min/Mean/Std/Max 0.057971 / 0.1 / 0.0158821 / 0.168116\n",
      "\r",
      "    Entropy 0.995682\n",
      "\r",
      "    Overlap Min/Mean/Std/Max 0.04 / 0.0996366 / 0.0204832 / 0.17\n"
     ]
    }
   ],
   "source": [
    "from htm.bindings.sdr import SDR, Metrics\n",
    "A = SDR( 2000 )\n",
    "M = Metrics( A, period = 1000 )  # This will automatically track SDR A.\n",
    "for i in range( 345 ):\n",
    "    A.randomize( sparsity = .10 )\n",
    "print( M )"
   ]
  },
  {
   "cell_type": "markdown",
   "metadata": {},
   "source": []
  },
  {
   "cell_type": "code",
   "execution_count": 47,
   "metadata": {},
   "outputs": [
    {
     "name": "stdout",
     "output_type": "stream",
     "text": [
      "[0 0 0 1 0 1 0 1 1 0 0 0 0 0 0]\n"
     ]
    }
   ],
   "source": [
    "import numpy as np\n",
    "from htm.bindings.sdr import SDR\n",
    "\n",
    "sample=np.array([0, 0, 0, 1, 0, 1, 0, 1, 1, 0, 0, 0, 0, 0, 0])\n",
    "print(sample)"
   ]
  },
  {
   "cell_type": "code",
   "execution_count": 48,
   "metadata": {},
   "outputs": [
    {
     "name": "stdout",
     "output_type": "stream",
     "text": [
      "(15,)\n"
     ]
    }
   ],
   "source": [
    "print(sample.shape)"
   ]
  },
  {
   "cell_type": "code",
   "execution_count": 49,
   "metadata": {},
   "outputs": [
    {
     "name": "stdout",
     "output_type": "stream",
     "text": [
      "SDR( 15 )\n"
     ]
    }
   ],
   "source": [
    "inputSDR = SDR( sample.shape )\n",
    "print(inputSDR)"
   ]
  },
  {
   "cell_type": "code",
   "execution_count": 50,
   "metadata": {},
   "outputs": [
    {
     "name": "stdout",
     "output_type": "stream",
     "text": [
      "[0 0 0 1 0 1 0 1 1 0 0 0 0 0 0]\n"
     ]
    }
   ],
   "source": [
    "inputSDR.dense=sample\n",
    "print(inputSDR.dense)"
   ]
  },
  {
   "cell_type": "code",
   "execution_count": 51,
   "metadata": {},
   "outputs": [
    {
     "name": "stdout",
     "output_type": "stream",
     "text": [
      "SDR( 15 ) 3, 5, 7, 8\n"
     ]
    }
   ],
   "source": [
    "print(inputSDR)"
   ]
  },
  {
   "cell_type": "code",
   "execution_count": 56,
   "metadata": {},
   "outputs": [
    {
     "data": {
      "image/png": "[encoded data removed]",
      "text/plain": [
       "<Figure size 432x288 with 1 Axes>"
      ]
     },
     "metadata": {
      "needs_background": "light"
     },
     "output_type": "display_data"
    }
   ],
   "source": [
    "rf = np.zeros([ 15, 4 ], dtype=np.uint8)\n",
    "\n",
    "for i in range(4):\n",
    "  rf[ :, i ] = inputSDR.dense\n",
    "\n",
    "plt.imshow(rf, interpolation='nearest')\n",
    "\n",
    "n_ticks = 1\n",
    "plt.xticks( np.linspace(0, 15-1, n_ticks),\n",
    "          np.linspace(0, 15, n_ticks))\n",
    "plt.show()"
   ]
  },
  {
   "cell_type": "code",
   "execution_count": null,
   "metadata": {},
   "outputs": [],
   "source": []
  }
 ],
 "metadata": {
  "kernelspec": {
   "display_name": "Python 3.6.9 64-bit",
   "language": "python",
   "name": "python36964bit699883541b9c4e059768b50f67b10466"
  },
  "language_info": {
   "codemirror_mode": {
    "name": "ipython",
    "version": 3
   },
   "file_extension": ".py",
   "mimetype": "text/x-python",
   "name": "python",
   "nbconvert_exporter": "python",
   "pygments_lexer": "ipython3",
   "version": "3.6.9"
  }
 },
 "nbformat": 4,
 "nbformat_minor": 2
}
